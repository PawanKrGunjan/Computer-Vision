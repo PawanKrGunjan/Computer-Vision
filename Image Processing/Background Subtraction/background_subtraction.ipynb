{
 "cells": [
  {
   "cell_type": "code",
   "execution_count": null,
   "metadata": {},
   "outputs": [],
   "source": [
    "# Python program to illustrate\n",
    "# simple thresholding type on an image\n",
    "\n",
    "# organizing imports\n",
    "import cv2\n",
    "import numpy as np\n",
    "\n",
    "# path to input image is specified and\n",
    "# image is loaded with imread command\n",
    "image = cv2.imread('Tata.jpg')\n",
    "\n",
    "# cv2.cvtColor is applied over the\n",
    "# image input with applied parameters\n",
    "# to convert the image in grayscale\n",
    "img = cv2.cvtColor(image, cv2.COLOR_BGR2GRAY)\n",
    "\n",
    "# applying different thresholding\n",
    "# techniques on the input image\n",
    "# all pixels value above 120 will\n",
    "# be set to 255\n",
    "ret, thresh1 = cv2.threshold(img, 120, 255, cv2.THRESH_BINARY)\n",
    "ret, thresh2 = cv2.threshold(img, 120, 255, cv2.THRESH_BINARY_INV)\n",
    "ret, thresh3 = cv2.threshold(img, 120, 255, cv2.THRESH_TRUNC)\n",
    "ret, thresh4 = cv2.threshold(img, 120, 255, cv2.THRESH_TOZERO)\n",
    "ret, thresh5 = cv2.threshold(img, 120, 255, cv2.THRESH_TOZERO_INV)\n",
    "\n",
    "# the window showing output images\n",
    "# with the corresponding thresholding\n",
    "# techniques applied to the input images\n",
    "cv2.imshow('original', image)\n",
    "cv2.imshow('Binary Threshold', thresh1)\n",
    "cv2.imshow('Binary Threshold Inverted', thresh2)\n",
    "cv2.imshow('Truncated Threshold', thresh3)\n",
    "cv2.imshow('Set to 0', thresh4)\n",
    "cv2.imshow('Set to 0 Inverted', thresh5)\n",
    "\n",
    "# De-allocate any associated memory usage\n",
    "if cv2.waitKey(0) & 0xff == 27:\n",
    "    cv2.destroyAllWindows()"
   ]
  },
  {
   "cell_type": "code",
   "execution_count": 1,
   "metadata": {},
   "outputs": [],
   "source": [
    "# Import the library OpenCV \n",
    "import cv2 \n",
    "\n",
    "  \n",
    "# Import the image \n",
    "file_name = \"Tata.jpg\"\n",
    "\n",
    "  \n",
    "# Read the image \n",
    "image = cv2.imread(file_name, 1) \n",
    "\n",
    "  \n",
    "# Convert image to image gray \n",
    "tmp = cv2.cvtColor(image, cv2.COLOR_BGR2GRAY) \n",
    "\n",
    "  \n",
    "# Applying thresholding technique \n",
    "_, alpha = cv2.threshold(tmp, 0, 255, cv2.THRESH_BINARY) \n",
    "\n",
    "  \n",
    "# Using cv2.split() to split channels  \n",
    "# of coloured image \n",
    "b, g, r = cv2.split(image) \n",
    "\n",
    "# Making list of Red, Green, Blue \n",
    "# Channels and alpha \n",
    "rgba = [b, g, r, alpha] \n",
    "\n",
    "  \n",
    "# Using cv2.merge() to merge rgba \n",
    "# into a coloured/multi-channeled image \n",
    "dst = cv2.merge(rgba, 4) \n",
    "\n",
    "# the window showing output images\n",
    "# with the corresponding thresholding\n",
    "# techniques applied to the input images\n",
    "cv2.imshow('original', image)\n",
    "#cv2.imshow('Blue', b)\n",
    "#cv2.imshow('Green', g)\n",
    "#cv2.imshow('red', r)\n",
    "cv2.imshow('Merged image', dst)\n",
    "\n",
    "  \n",
    "# Writing and saving to a new image \n",
    "\n",
    "cv2.imwrite(\"Tata_merge.jpg\", dst) \n",
    "\n",
    "# De-allocate any associated memory usage\n",
    "if cv2.waitKey(0) & 0xff == 27:\n",
    "    cv2.destroyAllWindows()"
   ]
  },
  {
   "cell_type": "code",
   "execution_count": 1,
   "metadata": {},
   "outputs": [],
   "source": [
    "# import the opencv library\n",
    "import cv2\n",
    "\n",
    "\n",
    "# define a video capture object\n",
    "vid = cv2.VideoCapture('Tejas.mp4')\n",
    "\n",
    "while(True):\n",
    "\n",
    "\t# Capture the video frame\n",
    "\t# by frame\n",
    "\tret, frame = vid.read()\n",
    "\n",
    "\t# Display the resulting frame\n",
    "\tcv2.imshow('frame', frame)\n",
    "\t\n",
    "\t# the 'q' button is set as the\n",
    "\t# quitting button you may use any\n",
    "\t# desired button of your choice\n",
    "\tif cv2.waitKey(1) & 0xFF == ord('q'):\n",
    "\t\tbreak\n",
    "\n",
    "# After the loop release the cap object\n",
    "vid.release()\n",
    "# Destroy all the windows\n",
    "cv2.destroyAllWindows()"
   ]
  },
  {
   "cell_type": "code",
   "execution_count": 3,
   "metadata": {},
   "outputs": [
    {
     "data": {
      "text/plain": [
       "<matplotlib.collections.PathCollection at 0x1a1835f64a0>"
      ]
     },
     "execution_count": 3,
     "metadata": {},
     "output_type": "execute_result"
    },
    {
     "data": {
      "image/png": "[encoded data removed]",
      "text/plain": [
       "<Figure size 432x288 with 1 Axes>"
      ]
     },
     "metadata": {
      "needs_background": "light"
     },
     "output_type": "display_data"
    }
   ],
   "source": [
    "import numpy as np\n",
    "import pandas as pd\n",
    "import matplotlib.pyplot as plt\n",
    "from pandas import DataFrame\n",
    "from sklearn import datasets\n",
    "from sklearn.mixture import GaussianMixture\n",
    "\n",
    "# load the iris dataset\n",
    "iris = datasets.load_iris()\n",
    "\n",
    "# select first two columns\n",
    "X = iris.data[:, :2]\n",
    "\n",
    "# turn it into a dataframe\n",
    "d = pd.DataFrame(X)\n",
    "\n",
    "# plot the data\n",
    "plt.scatter(d[0], d[1])\n"
   ]
  },
  {
   "cell_type": "code",
   "execution_count": 4,
   "metadata": {},
   "outputs": [
    {
     "data": {
      "text/plain": [
       "<matplotlib.collections.PathCollection at 0x1a18580e170>"
      ]
     },
     "execution_count": 4,
     "metadata": {},
     "output_type": "execute_result"
    },
    {
     "data": {
      "image/png": "[encoded data removed]",
      "text/plain": [
       "<Figure size 432x288 with 1 Axes>"
      ]
     },
     "metadata": {
      "needs_background": "light"
     },
     "output_type": "display_data"
    }
   ],
   "source": [
    "gmm = GaussianMixture(n_components = 3)\n",
    "\n",
    "# Fit the GMM model for the dataset\n",
    "# which expresses the dataset as a\n",
    "# mixture of 3 Gaussian Distribution\n",
    "gmm.fit(d)\n",
    "\n",
    "# Assign a label to each sample\n",
    "labels = gmm.predict(d)\n",
    "d['labels']= labels\n",
    "d0 = d[d['labels']== 0]\n",
    "d1 = d[d['labels']== 1]\n",
    "d2 = d[d['labels']== 2]\n",
    "\n",
    "# plot three clusters in same plot\n",
    "plt.scatter(d0[0], d0[1], c ='r')\n",
    "plt.scatter(d1[0], d1[1], c ='yellow')\n",
    "plt.scatter(d2[0], d2[1], c ='g')"
   ]
  },
  {
   "cell_type": "code",
   "execution_count": 5,
   "metadata": {},
   "outputs": [
    {
     "name": "stdout",
     "output_type": "stream",
     "text": [
      "-1.4985672470486964\n",
      "8\n"
     ]
    }
   ],
   "source": [
    "# print the converged log-likelihood value\n",
    "print(gmm.lower_bound_)\n",
    "\n",
    "# print the number of iterations needed\n",
    "# for the log-likelihood value to converge\n",
    "print(gmm.n_iter_)"
   ]
  },
  {
   "cell_type": "code",
   "execution_count": 2,
   "metadata": {},
   "outputs": [],
   "source": [
    "# Python code for Background subtraction using OpenCV\n",
    "import numpy as np\n",
    "import cv2\n",
    "\n",
    "cap = cv2.VideoCapture('Tejas.mp4')\n",
    "fgbg = cv2.createBackgroundSubtractorMOG2()\n",
    "\n",
    "while(1):\n",
    "    ret, frame = cap.read()\n",
    "\n",
    "    fgmask = fgbg.apply(frame)\n",
    "\n",
    "    cv2.imshow('fgmask', fgmask)\n",
    "    cv2.imshow('frame',frame )\n",
    "\n",
    "    \n",
    "    k = cv2.waitKey(30) & 0xff\n",
    "    if k == 27:\n",
    "        break\n",
    "    \n",
    "\n",
    "cap.release()\n",
    "cv2.destroyAllWindows()"
   ]
  },
  {
   "cell_type": "code",
   "execution_count": 5,
   "metadata": {},
   "outputs": [
    {
     "data": {
      "text/plain": [
       "('4', '6', '0')"
      ]
     },
     "execution_count": 5,
     "metadata": {},
     "output_type": "execute_result"
    }
   ],
   "source": [
    "(major_ver, minor_ver, subminor_ver) = (cv2.__version__).split('.')\n",
    "major_ver, minor_ver, subminor_ver"
   ]
  },
  {
   "cell_type": "code",
   "execution_count": 2,
   "metadata": {},
   "outputs": [],
   "source": [
    "import cv2\n",
    "import sys\n",
    "(major_ver, minor_ver, subminor_ver) = (cv2.__version__).split('.')\n",
    "if __name__ == '__main__' :\n",
    "    # Set up tracker.\n",
    "    # Instead of CSRT, you can also use\n",
    "    tracker_types = ['BOOSTING', 'MIL','KCF', 'TLD', 'MEDIANFLOW', 'GOTURN', 'MOSSE']\n",
    "    tracker_type = tracker_types[6]\n",
    " \n",
    "    if int(minor_ver) < 3:\n",
    "        tracker = cv2.Tracker_create(tracker_type)\n",
    "    else:\n",
    "        \n",
    "        if tracker_type == 'BOOSTING':\n",
    "            tracker = cv2.TrackerBoosting_create()\n",
    "        elif tracker_type == 'MIL':\n",
    "            tracker = cv2.TrackerMIL_create()\n",
    "        elif tracker_type == 'KCF':\n",
    "            tracker = cv2.TrackerKCF_create()\n",
    "        elif tracker_type == 'TLD':\n",
    "            tracker = cv2.TrackerTLD_create()\n",
    "        elif tracker_type == 'MEDIANFLOW':\n",
    "            tracker = cv2.TrackerMedianFlow_create()\n",
    "        elif tracker_type == 'GOTURN':\n",
    "             tracker = cv2.TrackerGOTURN_create()\n",
    "        elif tracker_type == 'MOSSE':\n",
    "            tracker = cv2.TrackerMOSSE_create()\n",
    "\n",
    "            #tracker = cv2.\n",
    "            #tracker = cv2.legacy_TrackerMOSSE.create()"
   ]
  },
  {
   "cell_type": "code",
   "execution_count": 2,
   "metadata": {},
   "outputs": [],
   "source": [
    "import cv2\n",
    "# Read video\n",
    "video = cv2.VideoCapture(\"Tejas.mp4\")\n",
    "#video = cv2.VideoCapture(0) # for using CAM\n",
    "\n",
    "# Exit if video not opened.\n",
    "if not video.isOpened():\n",
    "    print(\"Could not open video\")\n",
    "    sys.exit()\n",
    "\n",
    "# Read first frame.\n",
    "ok, frame = video.read()\n",
    "if not ok:\n",
    "    print ('Cannot read video file')\n",
    "    sys.exit()"
   ]
  },
  {
   "cell_type": "code",
   "execution_count": 6,
   "metadata": {},
   "outputs": [
    {
     "ename": "NameError",
     "evalue": "name 'tracker' is not defined",
     "output_type": "error",
     "traceback": [
      "\u001b[1;31m----------------------------------------------------------------------\u001b[0m",
      "\u001b[1;31mNameError\u001b[0m                            Traceback (most recent call last)",
      "Input \u001b[1;32mIn [6]\u001b[0m, in \u001b[0;36m<cell line: 9>\u001b[1;34m()\u001b[0m\n\u001b[0;32m      6\u001b[0m bbox \u001b[38;5;241m=\u001b[39m cv2\u001b[38;5;241m.\u001b[39mselectROI(frame, \u001b[38;5;28;01mFalse\u001b[39;00m)\n\u001b[0;32m      8\u001b[0m \u001b[38;5;66;03m# Initialize tracker with first frame and bounding box\u001b[39;00m\n\u001b[1;32m----> 9\u001b[0m ok \u001b[38;5;241m=\u001b[39m \u001b[43mtracker\u001b[49m\u001b[38;5;241m.\u001b[39minit(frame, bbox)\n",
      "\u001b[1;31mNameError\u001b[0m: name 'tracker' is not defined"
     ]
    }
   ],
   "source": [
    "import cv2\n",
    "# Define an initial bounding box\n",
    "bbox = (287, 23, 86, 320)\n",
    "\n",
    "# Uncomment the line below to select a different bounding box\n",
    "bbox = cv2.selectROI(frame, False)\n",
    "\n",
    "# Initialize tracker with first frame and bounding box\n",
    "ok = tracker.init(frame, bbox)"
   ]
  },
  {
   "cell_type": "code",
   "execution_count": 3,
   "metadata": {},
   "outputs": [
    {
     "ename": "NameError",
     "evalue": "name 'tracker' is not defined",
     "output_type": "error",
     "traceback": [
      "\u001b[1;31m----------------------------------------------------------------------\u001b[0m",
      "\u001b[1;31mNameError\u001b[0m                            Traceback (most recent call last)",
      "Input \u001b[1;32mIn [3]\u001b[0m, in \u001b[0;36m<cell line: 4>\u001b[1;34m()\u001b[0m\n\u001b[0;32m     11\u001b[0m timer \u001b[38;5;241m=\u001b[39m cv2\u001b[38;5;241m.\u001b[39mgetTickCount()\n\u001b[0;32m     13\u001b[0m \u001b[38;5;66;03m# Update tracker\u001b[39;00m\n\u001b[1;32m---> 14\u001b[0m ok, bbox \u001b[38;5;241m=\u001b[39m \u001b[43mtracker\u001b[49m\u001b[38;5;241m.\u001b[39mupdate(frame)\n\u001b[0;32m     16\u001b[0m \u001b[38;5;66;03m# Calculate Frames per second (FPS)\u001b[39;00m\n\u001b[0;32m     17\u001b[0m fps \u001b[38;5;241m=\u001b[39m cv2\u001b[38;5;241m.\u001b[39mgetTickFrequency() \u001b[38;5;241m/\u001b[39m (cv2\u001b[38;5;241m.\u001b[39mgetTickCount() \u001b[38;5;241m-\u001b[39m timer);\n",
      "\u001b[1;31mNameError\u001b[0m: name 'tracker' is not defined"
     ]
    }
   ],
   "source": [
    "import cv2\n",
    "# Read video\n",
    "video = cv2.VideoCapture(\"Tejas.mp4\")\n",
    "while True:\n",
    "    # Read a new frame\n",
    "    ok, frame = video.read()\n",
    "    if not ok:\n",
    "        break\n",
    "      \n",
    "    # Start timer\n",
    "    timer = cv2.getTickCount()\n",
    "\n",
    "    # Update tracker\n",
    "    ok, bbox = tracker.update(frame)\n",
    "\n",
    "    # Calculate Frames per second (FPS)\n",
    "    fps = cv2.getTickFrequency() / (cv2.getTickCount() - timer);\n",
    "\n",
    "    # Draw bounding box\n",
    "    if ok:\n",
    "        # Tracking success\n",
    "        p1 = (int(bbox[0]), int(bbox[1]))\n",
    "        p2 = (int(bbox[0] + bbox[2]), int(bbox[1] + bbox[3]))\n",
    "        cv2.rectangle(frame, p1, p2, (255,0,0), 2, 1)\n",
    "    else :\n",
    "        # Tracking failure\n",
    "        cv2.putText(frame, \"Tracking failure detected\", (100,80), cv2.FONT_HERSHEY_SIMPLEX, 0.75,(0,0,255),2)\n",
    "\n",
    "    # Display tracker type on frame\n",
    "    cv2.putText(frame, tracker_type + \" Tracker\", (100,20), cv2.FONT_HERSHEY_SIMPLEX, 0.75, (50,170,50),2);\n",
    "  \n",
    "    # Display FPS on frame\n",
    "    cv2.putText(frame, \"FPS : \" + str(int(fps)), (100,50), cv2.FONT_HERSHEY_SIMPLEX, 0.75, (50,170,50), 2);\n",
    "    # Display result\n",
    "    cv2.imshow(\"Tracking\", frame)\n",
    "\n",
    "    # Exit if ESC pressed\n",
    "    if cv2.waitKey(1) & 0xFF == ord('q'): # if press SPACE bar\n",
    "        break\n",
    "\n",
    "video.release()\n",
    "cv2.destroyAllWindows()"
   ]
  }
 ],
 "metadata": {
  "kernelspec": {
   "display_name": "Python 3 (ipykernel)",
   "language": "python",
   "name": "python3"
  },
  "language_info": {
   "codemirror_mode": {
    "name": "ipython",
    "version": 3
   },
   "file_extension": ".py",
   "mimetype": "text/x-python",
   "name": "python",
   "nbconvert_exporter": "python",
   "pygments_lexer": "ipython3",
   "version": "3.10.5"
  },
  "vscode": {
   "interpreter": {
    "hash": "8498851fdb8f20aac0be0c513133504d41018d140b7992e21b4a91b7f62ead50"
   }
  }
 },
 "nbformat": 4,
 "nbformat_minor": 2
}
