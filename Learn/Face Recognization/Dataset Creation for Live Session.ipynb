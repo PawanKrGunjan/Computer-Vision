{
 "cells": [
  {
   "cell_type": "markdown",
   "id": "c2ec1f0e",
   "metadata": {},
   "source": [
    "## Step 1: Install all the required packages"
   ]
  },
  {
   "cell_type": "code",
   "execution_count": 1,
   "id": "8580bf33",
   "metadata": {},
   "outputs": [],
   "source": [
    "#pip install --upgrade pip"
   ]
  },
  {
   "cell_type": "code",
   "execution_count": 2,
   "id": "9d6cf377",
   "metadata": {},
   "outputs": [],
   "source": [
    "#pip install opencv-python"
   ]
  },
  {
   "cell_type": "code",
   "execution_count": 3,
   "id": "e95913aa",
   "metadata": {},
   "outputs": [],
   "source": [
    "import cv2\n",
    "import numpy as np\n",
    "import os\n",
    "import shutil"
   ]
  },
  {
   "cell_type": "markdown",
   "id": "61d6efa7",
   "metadata": {},
   "source": [
    "## Step 2: Load the XML File"
   ]
  },
  {
   "cell_type": "code",
   "execution_count": 4,
   "id": "c298ee24",
   "metadata": {},
   "outputs": [],
   "source": [
    "# \"XML\" file contains pre-trained model that was created through extensive training\n",
    "# Purpose: XML file is used to detect the specified object\n",
    "\n",
    "face_classifier = cv2.CascadeClassifier('haarcascade_frontalface_default.xml')"
   ]
  },
  {
   "cell_type": "code",
   "execution_count": 5,
   "id": "974794b4",
   "metadata": {},
   "outputs": [],
   "source": [
    "## Method Definition\n",
    "## Scale ands crop your faces\n",
    "def face_extractor(img):\n",
    "    ## first argument : img\n",
    "    ## second argument : scalefactor(how much image size will be reduced at each image scale)\n",
    "    ## third argument : how many neighors each rectangle should have\n",
    "    faces = face_classifier.detectMultiScale(img, 1.3, 5)\n",
    "    if faces == ():\n",
    "        return None\n",
    "    \n",
    "    ## Crop all the faces found\n",
    "    for(x,y,w,h) in faces:\n",
    "        x = x-10;\n",
    "        y = y-10;\n",
    "        \n",
    "        cropped_face = img[y:y+h+50, x:x+w+50]\n",
    "    \n",
    "    return cropped_face"
   ]
  },
  {
   "cell_type": "code",
   "execution_count": null,
   "id": "1b31d693",
   "metadata": {},
   "outputs": [
    {
     "name": "stderr",
     "output_type": "stream",
     "text": [
      "C:\\Users\\Pawan\\AppData\\Local\\Temp\\ipykernel_14988\\2147710125.py:8: DeprecationWarning: elementwise comparison failed; this will raise an error in the future.\n",
      "  if faces == ():\n"
     ]
    }
   ],
   "source": [
    "## Initialize webcam\n",
    "cap = cv2.VideoCapture(0)\n",
    "count = 0\n",
    "if os.path.exists('Faces'):\n",
    "    shutil.rmtree('Faces')\n",
    "    os.mkdir('Faces') \n",
    "else:\n",
    "    os.mkdir('Faces')\n",
    "## Collect 100 samples of my face from the webcam input\n",
    "while True:\n",
    "    ret, frame = cap.read()\n",
    "\n",
    "    ## Method calling\n",
    "    if face_extractor(frame) is not None:\n",
    "        count += 1\n",
    "        face = cv2.resize(face_extractor(frame), (400, 400))\n",
    "        \n",
    "        ## Save file in the specified directory\n",
    "        file_name_path = 'Faces/' + str(count) + '.jpeg'\n",
    "        cv2.imwrite(file_name_path, face)\n",
    "\n",
    "        ## put count on images and display me the live count\n",
    "        cv2.putText(face, str(count), (50,50), cv2.FONT_HERSHEY_COMPLEX, 1, (0, 255, 0), 2)\n",
    "        cv2.imshow('Face Cropper', face)\n",
    "#     else:\n",
    "#         print(\"Face not found\")\n",
    "    \n",
    "    if cv2.waitKey(1) == 13 or count == 1000:\n",
    "        break\n",
    "\n",
    "        \n",
    "cap.release()\n",
    "cv2.destroyAllWindows()\n",
    "\n",
    "print(\"Dataset Creation task is successfully done\")"
   ]
  },
  {
   "cell_type": "code",
   "execution_count": null,
   "id": "f0722f1b",
   "metadata": {},
   "outputs": [],
   "source": [
    "file_name_path"
   ]
  },
  {
   "cell_type": "code",
   "execution_count": null,
   "id": "37819115",
   "metadata": {},
   "outputs": [],
   "source": [
    "from PIL import Image\n",
    "\n",
    "Image.open(file_name_path)"
   ]
  }
 ],
 "metadata": {
  "kernelspec": {
   "display_name": "Python 3 (ipykernel)",
   "language": "python",
   "name": "python3"
  },
  "language_info": {
   "codemirror_mode": {
    "name": "ipython",
    "version": 3
   },
   "file_extension": ".py",
   "mimetype": "text/x-python",
   "name": "python",
   "nbconvert_exporter": "python",
   "pygments_lexer": "ipython3",
   "version": "3.10.5"
  },
  "vscode": {
   "interpreter": {
    "hash": "3f17891b24d75332ca782a095e5c5c827f706259394ce8028ef9c4dacdd9c0ec"
   }
  }
 },
 "nbformat": 4,
 "nbformat_minor": 5
}
