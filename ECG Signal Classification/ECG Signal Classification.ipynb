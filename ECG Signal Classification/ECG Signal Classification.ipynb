{
 "cells": [
  {
   "cell_type": "markdown",
   "id": "0e3712a1",
   "metadata": {
    "papermill": {
     "duration": 0.02429,
     "end_time": "2024-06-23T10:05:47.355132",
     "exception": false,
     "start_time": "2024-06-23T10:05:47.330842",
     "status": "completed"
    },
    "tags": []
   },
   "source": [
    "# Electrocardiogram (ECG) Signal\n",
    "An Electrocardiogram (ECG or EKG) signal is a recording of the electrical activity of the heart over a period of time. This signal is captured using electrodes placed on the skin, typically on the chest, arms, and legs. The ECG signal provides vital information about the heart's rhythm and electrical conduction patterns, which are crucial for diagnosing various cardiac conditions.\n",
    "\n",
    "## Objectives \n",
    "The primary objective of this project was to classify ECG signals into different categories, identifying normal and abnormal heartbeats using machine learning techniques. The dataset used comprised various types of ECG signals, which were preprocessed and then used to train and evaluate multiple classification models. The methods involved data cleaning, feature extraction, model training, and performance evaluation."
   ]
  },
  {
   "cell_type": "markdown",
   "id": "0b4df3b5",
   "metadata": {
    "papermill": {
     "duration": 0.016845,
     "end_time": "2024-06-23T10:05:47.389977",
     "exception": false,
     "start_time": "2024-06-23T10:05:47.373132",
     "status": "completed"
    },
    "tags": []
   },
   "source": [
    "# Import the necessary libraries"
   ]
  },
  {
   "cell_type": "code",
   "execution_count": 1,
   "id": "1e8874df",
   "metadata": {
    "execution": {
     "iopub.execute_input": "2024-06-23T10:05:47.427272Z",
     "iopub.status.busy": "2024-06-23T10:05:47.426317Z",
     "iopub.status.idle": "2024-06-23T10:06:01.549129Z",
     "shell.execute_reply": "2024-06-23T10:06:01.548036Z"
    },
    "papermill": {
     "duration": 14.144594,
     "end_time": "2024-06-23T10:06:01.551742",
     "exception": false,
     "start_time": "2024-06-23T10:05:47.407148",
     "status": "completed"
    },
    "tags": []
   },
   "outputs": [
    {
     "name": "stderr",
     "output_type": "stream",
     "text": [
      "2024-06-23 10:05:51.286833: E external/local_xla/xla/stream_executor/cuda/cuda_dnn.cc:9261] Unable to register cuDNN factory: Attempting to register factory for plugin cuDNN when one has already been registered\n",
      "2024-06-23 10:05:51.286938: E external/local_xla/xla/stream_executor/cuda/cuda_fft.cc:607] Unable to register cuFFT factory: Attempting to register factory for plugin cuFFT when one has already been registered\n",
      "2024-06-23 10:05:51.429101: E external/local_xla/xla/stream_executor/cuda/cuda_blas.cc:1515] Unable to register cuBLAS factory: Attempting to register factory for plugin cuBLAS when one has already been registered\n"
     ]
    }
   ],
   "source": [
    "import wfdb\n",
    "import os\n",
    "import numpy as np\n",
    "import pandas as pd\n",
    "import matplotlib.pyplot as plt\n",
    "from tqdm import tqdm\n",
    "from sklearn.model_selection import train_test_split\n",
    "\n",
    "import tensorflow as tf\n",
    "from tensorflow import keras\n",
    "from tensorflow.keras.callbacks import EarlyStopping, ModelCheckpoint\n",
    "from tensorflow.keras.utils import to_categorical\n",
    "from sklearn.metrics import f1_score\n",
    "from sklearn.metrics import confusion_matrix, ConfusionMatrixDisplay, classification_report\n",
    "from imblearn.over_sampling import SMOTE\n",
    "from collections import Counter\n",
    "\n",
    "import warnings \n",
    "# Settings the warnings to be ignored \n",
    "warnings.filterwarnings('ignore')"
   ]
  },
  {
   "cell_type": "markdown",
   "id": "3d2f54c5",
   "metadata": {
    "jp-MarkdownHeadingCollapsed": true,
    "papermill": {
     "duration": 0.016997,
     "end_time": "2024-06-23T10:06:01.586227",
     "exception": false,
     "start_time": "2024-06-23T10:06:01.569230",
     "status": "completed"
    },
    "tags": []
   },
   "source": [
    "# Download the MIT-BIH Arrhythmia Database dataset"
   ]
  },
  {
   "cell_type": "code",
   "execution_count": 2,
   "id": "95533a1d",
   "metadata": {
    "execution": {
     "iopub.execute_input": "2024-06-23T10:06:01.622256Z",
     "iopub.status.busy": "2024-06-23T10:06:01.621117Z",
     "iopub.status.idle": "2024-06-23T10:07:46.896425Z",
     "shell.execute_reply": "2024-06-23T10:07:46.895326Z"
    },
    "papermill": {
     "duration": 105.295543,
     "end_time": "2024-06-23T10:07:46.898743",
     "exception": false,
     "start_time": "2024-06-23T10:06:01.603200",
     "status": "completed"
    },
    "tags": []
   },
   "outputs": [
    {
     "name": "stdout",
     "output_type": "stream",
     "text": [
      "Downloading data from https://physionet.org/static/published-projects/mitdb/mit-bih-arrhythmia-database-1.0.0.zip\n",
      "\u001b[1m77030320/77030320\u001b[0m \u001b[32m━━━━━━━━━━━━━━━━━━━━\u001b[0m\u001b[37m\u001b[0m \u001b[1m104s\u001b[0m 1us/step\n",
      "Dataset directory: /kaggle/working/mit-bih-arrhythmia-database\n"
     ]
    }
   ],
   "source": [
    "# Define the URL and local extraction path\n",
    "url = \"https://physionet.org/static/published-projects/mitdb/mit-bih-arrhythmia-database-1.0.0.zip\"\n",
    "extraction_dir = os.path.join(os.getcwd(), \"mit-bih-arrhythmia-database\")\n",
    "\n",
    "# Download and extract the dataset\n",
    "dataset_path = keras.utils.get_file(\n",
    "    fname=\"mit-bih-arrhythmia-database-1.0.0.zip\",\n",
    "    origin=url,\n",
    "    extract=True,\n",
    "    archive_format=\"zip\",\n",
    "    cache_dir=\".\",\n",
    "    cache_subdir=extraction_dir\n",
    ")\n",
    "\n",
    "# The dataset_path should now point to the directory where the data is extracted\n",
    "extracted_dir = extraction_dir\n",
    "print(f\"Dataset directory: {extracted_dir}\")"
   ]
  },
  {
   "cell_type": "code",
   "execution_count": 3,
   "id": "02e9ce13",
   "metadata": {
    "execution": {
     "iopub.execute_input": "2024-06-23T10:07:47.248093Z",
     "iopub.status.busy": "2024-06-23T10:07:47.247317Z",
     "iopub.status.idle": "2024-06-23T10:07:47.254203Z",
     "shell.execute_reply": "2024-06-23T10:07:47.253328Z"
    },
    "papermill": {
     "duration": 0.210047,
     "end_time": "2024-06-23T10:07:47.256168",
     "exception": false,
     "start_time": "2024-06-23T10:07:47.046121",
     "status": "completed"
    },
    "tags": []
   },
   "outputs": [
    {
     "data": {
      "text/plain": [
       "['mit-bih-arrhythmia-database-1.0.0.zip', 'mit-bih-arrhythmia-database-1.0.0']"
      ]
     },
     "execution_count": 3,
     "metadata": {},
     "output_type": "execute_result"
    }
   ],
   "source": [
    "os.listdir(extraction_dir)"
   ]
  },
  {
   "cell_type": "code",
   "execution_count": 4,
   "id": "471148b0",
   "metadata": {
    "execution": {
     "iopub.execute_input": "2024-06-23T10:07:47.549248Z",
     "iopub.status.busy": "2024-06-23T10:07:47.548560Z",
     "iopub.status.idle": "2024-06-23T10:07:47.554285Z",
     "shell.execute_reply": "2024-06-23T10:07:47.553338Z"
    },
    "papermill": {
     "duration": 0.154107,
     "end_time": "2024-06-23T10:07:47.556362",
     "exception": false,
     "start_time": "2024-06-23T10:07:47.402255",
     "status": "completed"
    },
    "tags": []
   },
   "outputs": [
    {
     "name": "stdout",
     "output_type": "stream",
     "text": [
      "Dataset directory: /kaggle/working/mit-bih-arrhythmia-database/mit-bih-arrhythmia-database-1.0.0\n"
     ]
    }
   ],
   "source": [
    "# The dataset_path should now point to the directory where the data is extracted\n",
    "dataset_dir = os.path.join(os.path.dirname(dataset_path), 'mit-bih-arrhythmia-database-1.0.0')\n",
    "\n",
    "print(f\"Dataset directory: {dataset_dir}\")"
   ]
  },
  {
   "cell_type": "markdown",
   "id": "d63752fd",
   "metadata": {
    "papermill": {
     "duration": 0.147906,
     "end_time": "2024-06-23T10:07:47.851879",
     "exception": false,
     "start_time": "2024-06-23T10:07:47.703973",
     "status": "completed"
    },
    "tags": []
   },
   "source": [
    "# Data Preprocessing"
   ]
  },
  {
   "cell_type": "code",
   "execution_count": 5,
   "id": "d34b57a2",
   "metadata": {
    "execution": {
     "iopub.execute_input": "2024-06-23T10:07:48.148101Z",
     "iopub.status.busy": "2024-06-23T10:07:48.147434Z",
     "iopub.status.idle": "2024-06-23T10:07:48.156204Z",
     "shell.execute_reply": "2024-06-23T10:07:48.155262Z"
    },
    "papermill": {
     "duration": 0.1587,
     "end_time": "2024-06-23T10:07:48.158279",
     "exception": false,
     "start_time": "2024-06-23T10:07:47.999579",
     "status": "completed"
    },
    "tags": []
   },
   "outputs": [
    {
     "name": "stdout",
     "output_type": "stream",
     "text": [
      "48\n"
     ]
    },
    {
     "data": {
      "text/plain": [
       "'/kaggle/working/mit-bih-arrhythmia-database/mit-bih-arrhythmia-database-1.0.0/101'"
      ]
     },
     "execution_count": 5,
     "metadata": {},
     "output_type": "execute_result"
    }
   ],
   "source": [
    "# List the contents of the dataset directory to see available records\n",
    "records = [f for f in os.listdir(dataset_dir) if f.endswith('.dat')]\n",
    "record_paths = [os.path.join(dataset_dir,os.path.splitext(f)[0]) for f in records]\n",
    "print(len(record_paths))\n",
    "record_paths[0]"
   ]
  },
  {
   "cell_type": "markdown",
   "id": "d4a44ef9",
   "metadata": {
    "papermill": {
     "duration": 0.147418,
     "end_time": "2024-06-23T10:07:48.452222",
     "exception": false,
     "start_time": "2024-06-23T10:07:48.304804",
     "status": "completed"
    },
    "tags": []
   },
   "source": [
    "## Header (.hea) file"
   ]
  },
  {
   "cell_type": "code",
   "execution_count": 6,
   "id": "8a6475db",
   "metadata": {
    "execution": {
     "iopub.execute_input": "2024-06-23T10:07:48.745542Z",
     "iopub.status.busy": "2024-06-23T10:07:48.744899Z",
     "iopub.status.idle": "2024-06-23T10:07:48.750875Z",
     "shell.execute_reply": "2024-06-23T10:07:48.749928Z"
    },
    "papermill": {
     "duration": 0.157747,
     "end_time": "2024-06-23T10:07:48.753126",
     "exception": false,
     "start_time": "2024-06-23T10:07:48.595379",
     "status": "completed"
    },
    "tags": []
   },
   "outputs": [
    {
     "name": "stdout",
     "output_type": "stream",
     "text": [
      "101 2 360 650000\n",
      "101.dat 212 200 11 1024 955 29832 0 MLII\n",
      "101.dat 212 200 11 1024 992 19589 0 V1\n",
      "# 75 F 1011 654 x1\n",
      "# Diapres\n",
      "\n"
     ]
    }
   ],
   "source": [
    "def load_header(header_file):\n",
    "    with open(header_file, 'r') as f:\n",
    "        header = f.read()\n",
    "    return header\n",
    "\n",
    "print(load_header(record_paths[0]+'.hea'))"
   ]
  },
  {
   "cell_type": "code",
   "execution_count": 7,
   "id": "7b50c5ee",
   "metadata": {
    "execution": {
     "iopub.execute_input": "2024-06-23T10:07:49.043127Z",
     "iopub.status.busy": "2024-06-23T10:07:49.042804Z",
     "iopub.status.idle": "2024-06-23T10:07:49.050228Z",
     "shell.execute_reply": "2024-06-23T10:07:49.049192Z"
    },
    "papermill": {
     "duration": 0.153679,
     "end_time": "2024-06-23T10:07:49.052087",
     "exception": false,
     "start_time": "2024-06-23T10:07:48.898408",
     "status": "completed"
    },
    "tags": []
   },
   "outputs": [
    {
     "name": "stdout",
     "output_type": "stream",
     "text": [
      "101\n",
      "['75 F 1011 654 x1', 'Diapres']\n",
      "['MLII', 'V1']\n"
     ]
    }
   ],
   "source": [
    "header= wfdb.io.rdheader(record_paths[0])\n",
    "print(header.record_name)\n",
    "print(header.comments)\n",
    "print(header.sig_name)"
   ]
  },
  {
   "cell_type": "markdown",
   "id": "7343de7b",
   "metadata": {
    "papermill": {
     "duration": 0.143463,
     "end_time": "2024-06-23T10:07:49.342130",
     "exception": false,
     "start_time": "2024-06-23T10:07:49.198667",
     "status": "completed"
    },
    "tags": []
   },
   "source": [
    "## Annotations (.atr) file"
   ]
  },
  {
   "cell_type": "code",
   "execution_count": 8,
   "id": "361d5005",
   "metadata": {
    "execution": {
     "iopub.execute_input": "2024-06-23T10:07:49.651713Z",
     "iopub.status.busy": "2024-06-23T10:07:49.651302Z",
     "iopub.status.idle": "2024-06-23T10:07:49.702631Z",
     "shell.execute_reply": "2024-06-23T10:07:49.701409Z"
    },
    "papermill": {
     "duration": 0.215083,
     "end_time": "2024-06-23T10:07:49.705035",
     "exception": false,
     "start_time": "2024-06-23T10:07:49.489952",
     "status": "completed"
    },
    "tags": []
   },
   "outputs": [
    {
     "name": "stdout",
     "output_type": "stream",
     "text": [
      "101\n",
      "None\n",
      "[   7   83  396  711 1032]\n",
      "(1874,)\n",
      "['+', 'N', 'N', 'N', 'N']\n",
      "1874\n"
     ]
    }
   ],
   "source": [
    "annotation = wfdb.rdann(record_paths[0], 'atr')\n",
    "print(annotation.record_name)\n",
    "print(annotation.description)\n",
    "print(annotation.sample[:5])\n",
    "print(annotation.sample.shape)\n",
    "print(annotation.symbol[:5])\n",
    "print(len(annotation.symbol))"
   ]
  },
  {
   "cell_type": "markdown",
   "id": "138d1df0",
   "metadata": {
    "papermill": {
     "duration": 0.145372,
     "end_time": "2024-06-23T10:07:50.001672",
     "exception": false,
     "start_time": "2024-06-23T10:07:49.856300",
     "status": "completed"
    },
    "tags": []
   },
   "source": [
    "## Record (.dat) file"
   ]
  },
  {
   "cell_type": "code",
   "execution_count": 9,
   "id": "916c76a2",
   "metadata": {
    "execution": {
     "iopub.execute_input": "2024-06-23T10:07:50.301765Z",
     "iopub.status.busy": "2024-06-23T10:07:50.301065Z",
     "iopub.status.idle": "2024-06-23T10:07:50.351153Z",
     "shell.execute_reply": "2024-06-23T10:07:50.350316Z"
    },
    "papermill": {
     "duration": 0.200649,
     "end_time": "2024-06-23T10:07:50.353535",
     "exception": false,
     "start_time": "2024-06-23T10:07:50.152886",
     "status": "completed"
    },
    "tags": []
   },
   "outputs": [
    {
     "name": "stdout",
     "output_type": "stream",
     "text": [
      "101\n",
      "None\n",
      "['75 F 1011 654 x1', 'Diapres']\n",
      "[[-0.345 -0.16 ]\n",
      " [-0.345 -0.16 ]\n",
      " [-0.345 -0.16 ]\n",
      " ...\n",
      " [-0.295 -0.11 ]\n",
      " [-0.29  -0.11 ]\n",
      " [ 0.     0.   ]]\n",
      "(650000, 2)\n",
      "360\n",
      "[29832, 19589]\n"
     ]
    }
   ],
   "source": [
    "# Load the record and the corresponding annotations\n",
    "record = wfdb.rdrecord(record_paths[0])\n",
    "\n",
    "print(record.record_name)\n",
    "print(record.base_date)\n",
    "print(record.comments)\n",
    "print(record.p_signal)\n",
    "print(record.p_signal.shape)\n",
    "print(record.fs)\n",
    "print(record.checksum)"
   ]
  },
  {
   "cell_type": "code",
   "execution_count": 10,
   "id": "df748d9d",
   "metadata": {
    "execution": {
     "iopub.execute_input": "2024-06-23T10:07:50.668914Z",
     "iopub.status.busy": "2024-06-23T10:07:50.668545Z",
     "iopub.status.idle": "2024-06-23T10:07:51.771816Z",
     "shell.execute_reply": "2024-06-23T10:07:51.770864Z"
    },
    "papermill": {
     "duration": 1.259274,
     "end_time": "2024-06-23T10:07:51.774356",
     "exception": false,
     "start_time": "2024-06-23T10:07:50.515082",
     "status": "completed"
    },
    "tags": []
   },
   "outputs": [
    {
     "data": {
      "image/png": "[encoded data removed]",
      "text/plain": [
       "<Figure size 1200x600 with 1 Axes>"
      ]
     },
     "metadata": {},
     "output_type": "display_data"
    }
   ],
   "source": [
    "# Extract the signal\n",
    "signal = record.p_signal\n",
    "\n",
    "# Get the sampling frequency\n",
    "sampling_frequency = record.fs\n",
    "\n",
    "# Create a time array in seconds\n",
    "time = np.arange(signal.shape[0]) / sampling_frequency\n",
    "\n",
    "# Plot the signal with respect to time\n",
    "plt.figure(figsize=(12, 6))\n",
    "plt.plot(time, signal)\n",
    "plt.xlabel('Time (s)')\n",
    "plt.ylabel('Amplitude')\n",
    "plt.title('Time vs ECG Records')\n",
    "plt.grid(True)\n",
    "plt.xlim(2, 4)\n",
    "plt.ylim(-1.5, 1.5)\n",
    "plt.legend([\"Channel 1\",\"Channel 2\"])\n",
    "plt.show()"
   ]
  },
  {
   "cell_type": "markdown",
   "id": "0e98fd32",
   "metadata": {
    "papermill": {
     "duration": 0.148165,
     "end_time": "2024-06-23T10:07:52.073255",
     "exception": false,
     "start_time": "2024-06-23T10:07:51.925090",
     "status": "completed"
    },
    "tags": []
   },
   "source": [
    "## Plot the signals"
   ]
  },
  {
   "cell_type": "code",
   "execution_count": 11,
   "id": "6bdb9b17",
   "metadata": {
    "execution": {
     "iopub.execute_input": "2024-06-23T10:07:52.386661Z",
     "iopub.status.busy": "2024-06-23T10:07:52.385654Z",
     "iopub.status.idle": "2024-06-23T10:07:53.130762Z",
     "shell.execute_reply": "2024-06-23T10:07:53.125952Z"
    },
    "papermill": {
     "duration": 0.911408,
     "end_time": "2024-06-23T10:07:53.134413",
     "exception": false,
     "start_time": "2024-06-23T10:07:52.223005",
     "status": "completed"
    },
    "tags": []
   },
   "outputs": [
    {
     "name": "stdout",
     "output_type": "stream",
     "text": [
      "Record Name: 101\n",
      "Signal Shape: (650000, 2)\n",
      "Annotations: 1874 annotations\n"
     ]
    },
    {
     "data": {
      "image/png": "[encoded data removed]",
      "text/plain": [
       "<Figure size 640x480 with 2 Axes>"
      ]
     },
     "metadata": {},
     "output_type": "display_data"
    }
   ],
   "source": [
    "# Load the record and the corresponding annotations\n",
    "record = wfdb.rdrecord(record_paths[0])\n",
    "annotation = wfdb.rdann(record_paths[0], 'atr')\n",
    "\n",
    "# Print some information about the record\n",
    "print(f\"Record Name: {record.record_name}\")\n",
    "print(f\"Signal Shape: {record.p_signal.shape}\")\n",
    "print(f\"Annotations: {len(annotation.sample)} annotations\")\n",
    "\n",
    "# Plot the signals\n",
    "wfdb.plot_wfdb(record=record, annotation=annotation, title=f\"Record {record.record_name} with Annotations\")"
   ]
  },
  {
   "cell_type": "markdown",
   "id": "a7d6f87f",
   "metadata": {
    "papermill": {
     "duration": 0.158858,
     "end_time": "2024-06-23T10:07:53.455577",
     "exception": false,
     "start_time": "2024-06-23T10:07:53.296719",
     "status": "completed"
    },
    "tags": []
   },
   "source": [
    "# Label the dataset"
   ]
  },
  {
   "cell_type": "code",
   "execution_count": 12,
   "id": "7a7ef113",
   "metadata": {
    "execution": {
     "iopub.execute_input": "2024-06-23T10:07:53.824390Z",
     "iopub.status.busy": "2024-06-23T10:07:53.824043Z",
     "iopub.status.idle": "2024-06-23T10:07:54.197174Z",
     "shell.execute_reply": "2024-06-23T10:07:54.196026Z"
    },
    "papermill": {
     "duration": 0.527074,
     "end_time": "2024-06-23T10:07:54.200357",
     "exception": false,
     "start_time": "2024-06-23T10:07:53.673283",
     "status": "completed"
    },
    "tags": []
   },
   "outputs": [
    {
     "data": {
      "image/png": "[encoded data removed]",
      "text/plain": [
       "<Figure size 1000x400 with 1 Axes>"
      ]
     },
     "metadata": {},
     "output_type": "display_data"
    },
    {
     "name": "stdout",
     "output_type": "stream",
     "text": [
      "Annotations:\n",
      "Number of Annotations : 1519\n",
      "Sample: 25, Type: +\n",
      "Sample: 70, Type: N\n",
      "Sample: 550, Type: N\n",
      "Sample: 1021, Type: N\n",
      "Sample: 1498, Type: N\n",
      "Sample: 1925, Type: N\n",
      "Sample: 2340, Type: N\n",
      "Sample: 2821, Type: N\n",
      "Sample: 3259, Type: N\n",
      "Sample: 3667, Type: N\n"
     ]
    }
   ],
   "source": [
    "# Example: Read record 123\n",
    "record_name = '123'\n",
    "record = wfdb.rdrecord(f'{dataset_dir}/{record_name}')\n",
    "annotation = wfdb.rdann(f'{dataset_dir}/{record_name}', 'atr')\n",
    "\n",
    "# Plot the ECG signal\n",
    "plt.figure(figsize=(10, 4))\n",
    "plt.plot(record.p_signal[:1000])\n",
    "plt.title(f'ECG Signal from Record {record_name}')\n",
    "plt.xlabel('Sample')\n",
    "plt.ylabel('Amplitude')\n",
    "plt.legend([\"Channel 1\",\"Channel 2\"])\n",
    "plt.show()\n",
    "\n",
    "# Print annotations\n",
    "print(\"Annotations:\")\n",
    "print('Number of Annotations :',len(annotation.sample))\n",
    "for i in range(10):\n",
    "    print(f\"Sample: {annotation.sample[i]}, Type: {annotation.symbol[i]}\")"
   ]
  },
  {
   "cell_type": "code",
   "execution_count": 13,
   "id": "c75e6446",
   "metadata": {
    "execution": {
     "iopub.execute_input": "2024-06-23T10:07:54.499769Z",
     "iopub.status.busy": "2024-06-23T10:07:54.498958Z",
     "iopub.status.idle": "2024-06-23T10:07:55.853434Z",
     "shell.execute_reply": "2024-06-23T10:07:55.852458Z"
    },
    "papermill": {
     "duration": 1.505996,
     "end_time": "2024-06-23T10:07:55.855463",
     "exception": false,
     "start_time": "2024-06-23T10:07:54.349467",
     "status": "completed"
    },
    "tags": []
   },
   "outputs": [
    {
     "data": {
      "image/png": "[encoded data removed]",
      "text/plain": [
       "<Figure size 1000x100 with 1 Axes>"
      ]
     },
     "metadata": {},
     "output_type": "display_data"
    },
    {
     "data": {
      "image/png": "[encoded data removed]",
      "text/plain": [
       "<Figure size 1000x100 with 1 Axes>"
      ]
     },
     "metadata": {},
     "output_type": "display_data"
    },
    {
     "data": {
      "image/png": "[encoded data removed]",
      "text/plain": [
       "<Figure size 1000x100 with 1 Axes>"
      ]
     },
     "metadata": {},
     "output_type": "display_data"
    },
    {
     "data": {
      "image/png": "[encoded data removed]",
      "text/plain": [
       "<Figure size 1000x100 with 1 Axes>"
      ]
     },
     "metadata": {},
     "output_type": "display_data"
    },
    {
     "data": {
      "image/png": "[encoded data removed]",
      "text/plain": [
       "<Figure size 1000x100 with 1 Axes>"
      ]
     },
     "metadata": {},
     "output_type": "display_data"
    }
   ],
   "source": [
    "# Define a function to extract labeled segments\n",
    "def extract_labeled_segments(record, annotation, segment_length=360):\n",
    "    labeled_segments = []\n",
    "    \n",
    "    for i in range(len(annotation.sample)):\n",
    "        start = annotation.sample[i]\n",
    "        end = start + segment_length\n",
    "        \n",
    "        if end < len(record.p_signal):\n",
    "            segment = record.p_signal[start:end]\n",
    "            label = annotation.symbol[i]\n",
    "            labeled_segments.append((segment, label))\n",
    "    \n",
    "    return labeled_segments\n",
    "\n",
    "# Extract labeled segments\n",
    "segments = extract_labeled_segments(record, annotation)\n",
    "\n",
    "# Display some labeled segments\n",
    "for i, (segment, label) in enumerate(segments[:5]):\n",
    "    plt.figure(figsize=(10, 1))\n",
    "    plt.plot(segment)\n",
    "    plt.title(f'Segment {i+1} - Label: {label}')\n",
    "    plt.xlabel('Sample')\n",
    "    plt.ylabel('Amplitude')\n",
    "    plt.legend([\"Channel 1\",\"Channel 2\"])\n",
    "    plt.show()"
   ]
  },
  {
   "cell_type": "markdown",
   "id": "5114d766",
   "metadata": {
    "papermill": {
     "duration": 0.155146,
     "end_time": "2024-06-23T10:07:56.163169",
     "exception": false,
     "start_time": "2024-06-23T10:07:56.008023",
     "status": "completed"
    },
    "tags": []
   },
   "source": [
    "## Extract labeled segments from a record with annotations"
   ]
  },
  {
   "cell_type": "code",
   "execution_count": 14,
   "id": "a9061097",
   "metadata": {
    "execution": {
     "iopub.execute_input": "2024-06-23T10:07:56.467436Z",
     "iopub.status.busy": "2024-06-23T10:07:56.466567Z",
     "iopub.status.idle": "2024-06-23T10:07:56.474858Z",
     "shell.execute_reply": "2024-06-23T10:07:56.473905Z"
    },
    "papermill": {
     "duration": 0.161833,
     "end_time": "2024-06-23T10:07:56.476936",
     "exception": false,
     "start_time": "2024-06-23T10:07:56.315103",
     "status": "completed"
    },
    "tags": []
   },
   "outputs": [],
   "source": [
    "# Function to extract labeled segments from a record with annotations\n",
    "def extract_labeled_segments(record, annotation, segment_length=360):\n",
    "    \"\"\"\n",
    "    Extracts segments of ECG signals centered around annotation points and assigns corresponding labels.\n",
    "\n",
    "    Parameters:\n",
    "    - record: wfdb.Record object containing the ECG signal data.\n",
    "    - annotation: wfdb.Annotation object containing the annotations for the record.\n",
    "    - segment_length: int, length of each segment to be extracted.\n",
    "\n",
    "    Returns:\n",
    "    - labeled_segments: list of tuples, each containing a segment and its corresponding label.\n",
    "    \"\"\"\n",
    "    Segments = []\n",
    "    labels    = []\n",
    "    \n",
    "    for i in range(len(annotation.sample)):\n",
    "        # Calculate the start and end indices of the segment\n",
    "        start = annotation.sample[i] - segment_length // 2\n",
    "        end = annotation.sample[i] + segment_length // 2\n",
    "        \n",
    "        # Ensure the segment indices are within the bounds of the signal\n",
    "        if start >= 0 and end < len(record.p_signal):\n",
    "            # Extract segments from both leads (assuming two leads)\n",
    "            segment = record.p_signal[start:end, :2]  # Extracting both channels\n",
    "            Segments.append(segment)\n",
    "            label = annotation.symbol[i]\n",
    "            labels.append(label)\n",
    "    return Segments, labels"
   ]
  },
  {
   "cell_type": "code",
   "execution_count": 15,
   "id": "0f63fa32",
   "metadata": {
    "execution": {
     "iopub.execute_input": "2024-06-23T10:07:56.794409Z",
     "iopub.status.busy": "2024-06-23T10:07:56.793745Z",
     "iopub.status.idle": "2024-06-23T10:07:57.132423Z",
     "shell.execute_reply": "2024-06-23T10:07:57.131424Z"
    },
    "papermill": {
     "duration": 0.499108,
     "end_time": "2024-06-23T10:07:57.134727",
     "exception": false,
     "start_time": "2024-06-23T10:07:56.635619",
     "status": "completed"
    },
    "tags": []
   },
   "outputs": [
    {
     "data": {
      "image/png": "[encoded data removed]",
      "text/plain": [
       "<Figure size 1200x500 with 1 Axes>"
      ]
     },
     "metadata": {},
     "output_type": "display_data"
    }
   ],
   "source": [
    "segment_length=360\n",
    "Segments, labels =extract_labeled_segments(record, annotation, segment_length)\n",
    "\n",
    "# Extract the signal\n",
    "i=20\n",
    "signal = Segments[i]\n",
    "label = labels[i]\n",
    "# Get the sampling frequency\n",
    "sampling_frequency = segment_length\n",
    "\n",
    "# Create a time array in seconds\n",
    "time = np.arange(signal.shape[0]) / sampling_frequency\n",
    "#time = np.arange(sampling_frequency)\n",
    "\n",
    "# Plot the signal with respect to time\n",
    "plt.figure(figsize=(12, 5))\n",
    "plt.plot(time, signal)\n",
    "plt.xlabel('Time (s)')\n",
    "plt.ylabel('Amplitude')\n",
    "plt.title(f'Segment {i+1} - Label: {label}')\n",
    "plt.legend([\"Channel 1\",\"Channel 2\"])\n",
    "plt.grid(True)\n",
    "plt.show()"
   ]
  },
  {
   "cell_type": "markdown",
   "id": "29c507e2",
   "metadata": {
    "papermill": {
     "duration": 0.151145,
     "end_time": "2024-06-23T10:07:57.442239",
     "exception": false,
     "start_time": "2024-06-23T10:07:57.291094",
     "status": "completed"
    },
    "tags": []
   },
   "source": [
    "## Store all segments and labels"
   ]
  },
  {
   "cell_type": "code",
   "execution_count": 16,
   "id": "a1b6f43c",
   "metadata": {
    "execution": {
     "iopub.execute_input": "2024-06-23T10:07:57.765494Z",
     "iopub.status.busy": "2024-06-23T10:07:57.765143Z",
     "iopub.status.idle": "2024-06-23T10:07:58.224898Z",
     "shell.execute_reply": "2024-06-23T10:07:58.223851Z"
    },
    "papermill": {
     "duration": 0.625351,
     "end_time": "2024-06-23T10:07:58.226910",
     "exception": false,
     "start_time": "2024-06-23T10:07:57.601559",
     "status": "completed"
    },
    "tags": []
   },
   "outputs": [
    {
     "name": "stderr",
     "output_type": "stream",
     "text": [
      "100%|██████████| 5/5 [00:00<00:00, 11.15it/s]"
     ]
    },
    {
     "name": "stdout",
     "output_type": "stream",
     "text": [
      "CPU times: user 432 ms, sys: 22.4 ms, total: 454 ms\n",
      "Wall time: 453 ms\n"
     ]
    },
    {
     "name": "stderr",
     "output_type": "stream",
     "text": [
      "\n"
     ]
    }
   ],
   "source": [
    "%%time\n",
    "# Initialize a list to store all segments and labels\n",
    "all_segments = {'Records':[],\n",
    "               'Labels':[]}\n",
    "\n",
    "# Process each record\n",
    "for record_path in tqdm(record_paths[:5]):\n",
    "    # Read the ECG record and its annotations\n",
    "    record = wfdb.rdrecord(record_path)\n",
    "    annotation = wfdb.rdann(record_path, 'atr')\n",
    "    \n",
    "    # Extract labeled segments from the record\n",
    "    segments, labels = extract_labeled_segments(record, annotation)\n",
    "    all_segments['Records'].extend(segments)\n",
    "    all_segments['Labels'].extend(labels)"
   ]
  },
  {
   "cell_type": "code",
   "execution_count": 17,
   "id": "1e4bfe8c",
   "metadata": {
    "execution": {
     "iopub.execute_input": "2024-06-23T10:07:58.535306Z",
     "iopub.status.busy": "2024-06-23T10:07:58.534955Z",
     "iopub.status.idle": "2024-06-23T10:07:58.543438Z",
     "shell.execute_reply": "2024-06-23T10:07:58.542546Z"
    },
    "papermill": {
     "duration": 0.168479,
     "end_time": "2024-06-23T10:07:58.546809",
     "exception": false,
     "start_time": "2024-06-23T10:07:58.378330",
     "status": "completed"
    },
    "tags": []
   },
   "outputs": [
    {
     "name": "stdout",
     "output_type": "stream",
     "text": [
      "dict_keys(['Records', 'Labels'])\n",
      "No of records : 11335\n",
      "Record Shape : (360, 2)\n",
      "Label : N\n"
     ]
    },
    {
     "data": {
      "text/plain": [
       "array([-0.265, -0.185])"
      ]
     },
     "execution_count": 17,
     "metadata": {},
     "output_type": "execute_result"
    }
   ],
   "source": [
    "print(all_segments.keys())\n",
    "print('No of records :',len(all_segments['Records']))\n",
    "# Check a record:\n",
    "index=1\n",
    "print('Record Shape :',all_segments['Records'][index].shape)\n",
    "print('Label :',all_segments['Labels'][index])\n",
    "all_segments['Records'][0][-1]\n",
    "#all_segments[index][0][:,1]"
   ]
  },
  {
   "cell_type": "markdown",
   "id": "2ee7930e",
   "metadata": {
    "papermill": {
     "duration": 0.154373,
     "end_time": "2024-06-23T10:07:58.873080",
     "exception": false,
     "start_time": "2024-06-23T10:07:58.718707",
     "status": "completed"
    },
    "tags": []
   },
   "source": [
    "# Build and Store the Data into DataFrame"
   ]
  },
  {
   "cell_type": "code",
   "execution_count": 18,
   "id": "65d86668",
   "metadata": {
    "execution": {
     "iopub.execute_input": "2024-06-23T10:07:59.185550Z",
     "iopub.status.busy": "2024-06-23T10:07:59.185160Z",
     "iopub.status.idle": "2024-06-23T10:08:03.502225Z",
     "shell.execute_reply": "2024-06-23T10:08:03.501110Z"
    },
    "papermill": {
     "duration": 4.47849,
     "end_time": "2024-06-23T10:08:03.504582",
     "exception": false,
     "start_time": "2024-06-23T10:07:59.026092",
     "status": "completed"
    },
    "scrolled": true,
    "tags": []
   },
   "outputs": [
    {
     "name": "stderr",
     "output_type": "stream",
     "text": [
      "100%|██████████| 11335/11335 [00:00<00:00, 163725.46it/s]\n"
     ]
    },
    {
     "name": "stdout",
     "output_type": "stream",
     "text": [
      "CPU times: user 4 s, sys: 315 ms, total: 4.32 s\n",
      "Wall time: 4.31 s\n"
     ]
    },
    {
     "data": {
      "text/plain": [
       "(11335, 721)"
      ]
     },
     "execution_count": 18,
     "metadata": {},
     "output_type": "execute_result"
    }
   ],
   "source": [
    "%%time\n",
    "df = pd.DataFrame(all_segments)\n",
    "segment_length=360\n",
    "num_channels=2\n",
    "column_names = [f'sample_{i}_ch_{j}' for i in range(segment_length) for j in range(num_channels)]\n",
    "\n",
    "df[column_names]=[record.flatten() for record in tqdm(df['Records'])]\n",
    "df.drop(columns=['Records'], inplace=True)\n",
    "df.shape"
   ]
  },
  {
   "cell_type": "code",
   "execution_count": 19,
   "id": "a4b4415e",
   "metadata": {
    "execution": {
     "iopub.execute_input": "2024-06-23T10:08:03.818261Z",
     "iopub.status.busy": "2024-06-23T10:08:03.817859Z",
     "iopub.status.idle": "2024-06-23T10:08:03.863632Z",
     "shell.execute_reply": "2024-06-23T10:08:03.862542Z"
    },
    "papermill": {
     "duration": 0.203686,
     "end_time": "2024-06-23T10:08:03.865700",
     "exception": false,
     "start_time": "2024-06-23T10:08:03.662014",
     "status": "completed"
    },
    "tags": []
   },
   "outputs": [
    {
     "name": "stdout",
     "output_type": "stream",
     "text": [
      "<class 'pandas.core.frame.DataFrame'>\n",
      "RangeIndex: 11335 entries, 0 to 11334\n",
      "Columns: 721 entries, Labels to sample_359_ch_1\n",
      "dtypes: float64(720), object(1)\n",
      "memory usage: 62.4+ MB\n"
     ]
    }
   ],
   "source": [
    "df.info()"
   ]
  },
  {
   "cell_type": "markdown",
   "id": "1574edca",
   "metadata": {
    "papermill": {
     "duration": 0.149916,
     "end_time": "2024-06-23T10:08:04.166530",
     "exception": false,
     "start_time": "2024-06-23T10:08:04.016614",
     "status": "completed"
    },
    "tags": []
   },
   "source": [
    "## Save the Cleaned Data Files into CSV format"
   ]
  },
  {
   "cell_type": "code",
   "execution_count": 20,
   "id": "a36e9e02",
   "metadata": {
    "execution": {
     "iopub.execute_input": "2024-06-23T10:08:04.470858Z",
     "iopub.status.busy": "2024-06-23T10:08:04.470486Z",
     "iopub.status.idle": "2024-06-23T10:08:15.249719Z",
     "shell.execute_reply": "2024-06-23T10:08:15.248642Z"
    },
    "papermill": {
     "duration": 10.933723,
     "end_time": "2024-06-23T10:08:15.252027",
     "exception": false,
     "start_time": "2024-06-23T10:08:04.318304",
     "status": "completed"
    },
    "tags": []
   },
   "outputs": [
    {
     "name": "stdout",
     "output_type": "stream",
     "text": [
      "Data saved to /kaggle/workingMIT_BIH_Arrhythmia_labeled_segments.csv\n",
      "CPU times: user 10.7 s, sys: 73.8 ms, total: 10.8 s\n",
      "Wall time: 10.8 s\n"
     ]
    }
   ],
   "source": [
    "%%time\n",
    "# Save to CSV\n",
    "output_csv_path = os.getcwd()+'MIT_BIH_Arrhythmia_labeled_segments.csv'\n",
    "df.to_csv(output_csv_path, index=False)\n",
    "\n",
    "print(f'Data saved to {output_csv_path}')"
   ]
  },
  {
   "cell_type": "code",
   "execution_count": 21,
   "id": "fbc9f839",
   "metadata": {
    "execution": {
     "iopub.execute_input": "2024-06-23T10:08:15.557956Z",
     "iopub.status.busy": "2024-06-23T10:08:15.557590Z",
     "iopub.status.idle": "2024-06-23T10:08:16.987229Z",
     "shell.execute_reply": "2024-06-23T10:08:16.986257Z"
    },
    "papermill": {
     "duration": 1.583897,
     "end_time": "2024-06-23T10:08:16.989753",
     "exception": false,
     "start_time": "2024-06-23T10:08:15.405856",
     "status": "completed"
    },
    "tags": []
   },
   "outputs": [
    {
     "data": {
      "text/html": [
       "<div>\n",
       "<style scoped>\n",
       "    .dataframe tbody tr th:only-of-type {\n",
       "        vertical-align: middle;\n",
       "    }\n",
       "\n",
       "    .dataframe tbody tr th {\n",
       "        vertical-align: top;\n",
       "    }\n",
       "\n",
       "    .dataframe thead th {\n",
       "        text-align: right;\n",
       "    }\n",
       "</style>\n",
       "<table border=\"1\" class=\"dataframe\">\n",
       "  <thead>\n",
       "    <tr style=\"text-align: right;\">\n",
       "      <th></th>\n",
       "      <th>Labels</th>\n",
       "      <th>sample_0_ch_0</th>\n",
       "      <th>sample_0_ch_1</th>\n",
       "      <th>sample_1_ch_0</th>\n",
       "      <th>sample_1_ch_1</th>\n",
       "      <th>sample_2_ch_0</th>\n",
       "      <th>sample_2_ch_1</th>\n",
       "      <th>sample_3_ch_0</th>\n",
       "      <th>sample_3_ch_1</th>\n",
       "      <th>sample_4_ch_0</th>\n",
       "      <th>...</th>\n",
       "      <th>sample_355_ch_0</th>\n",
       "      <th>sample_355_ch_1</th>\n",
       "      <th>sample_356_ch_0</th>\n",
       "      <th>sample_356_ch_1</th>\n",
       "      <th>sample_357_ch_0</th>\n",
       "      <th>sample_357_ch_1</th>\n",
       "      <th>sample_358_ch_0</th>\n",
       "      <th>sample_358_ch_1</th>\n",
       "      <th>sample_359_ch_0</th>\n",
       "      <th>sample_359_ch_1</th>\n",
       "    </tr>\n",
       "  </thead>\n",
       "  <tbody>\n",
       "    <tr>\n",
       "      <th>0</th>\n",
       "      <td>N</td>\n",
       "      <td>-0.355</td>\n",
       "      <td>-0.205</td>\n",
       "      <td>-0.355</td>\n",
       "      <td>-0.190</td>\n",
       "      <td>-0.365</td>\n",
       "      <td>-0.175</td>\n",
       "      <td>-0.345</td>\n",
       "      <td>-0.175</td>\n",
       "      <td>-0.345</td>\n",
       "      <td>...</td>\n",
       "      <td>-0.265</td>\n",
       "      <td>-0.185</td>\n",
       "      <td>-0.27</td>\n",
       "      <td>-0.165</td>\n",
       "      <td>-0.260</td>\n",
       "      <td>-0.160</td>\n",
       "      <td>-0.260</td>\n",
       "      <td>-0.175</td>\n",
       "      <td>-0.265</td>\n",
       "      <td>-0.185</td>\n",
       "    </tr>\n",
       "    <tr>\n",
       "      <th>1</th>\n",
       "      <td>N</td>\n",
       "      <td>-0.295</td>\n",
       "      <td>-0.165</td>\n",
       "      <td>-0.295</td>\n",
       "      <td>-0.180</td>\n",
       "      <td>-0.310</td>\n",
       "      <td>-0.200</td>\n",
       "      <td>-0.320</td>\n",
       "      <td>-0.200</td>\n",
       "      <td>-0.305</td>\n",
       "      <td>...</td>\n",
       "      <td>-0.340</td>\n",
       "      <td>-0.140</td>\n",
       "      <td>-0.34</td>\n",
       "      <td>-0.175</td>\n",
       "      <td>-0.350</td>\n",
       "      <td>-0.180</td>\n",
       "      <td>-0.340</td>\n",
       "      <td>-0.150</td>\n",
       "      <td>-0.325</td>\n",
       "      <td>-0.135</td>\n",
       "    </tr>\n",
       "    <tr>\n",
       "      <th>2</th>\n",
       "      <td>N</td>\n",
       "      <td>-0.365</td>\n",
       "      <td>-0.160</td>\n",
       "      <td>-0.365</td>\n",
       "      <td>-0.145</td>\n",
       "      <td>-0.345</td>\n",
       "      <td>-0.125</td>\n",
       "      <td>-0.350</td>\n",
       "      <td>-0.120</td>\n",
       "      <td>-0.360</td>\n",
       "      <td>...</td>\n",
       "      <td>-0.415</td>\n",
       "      <td>-0.140</td>\n",
       "      <td>-0.41</td>\n",
       "      <td>-0.145</td>\n",
       "      <td>-0.400</td>\n",
       "      <td>-0.145</td>\n",
       "      <td>-0.415</td>\n",
       "      <td>-0.135</td>\n",
       "      <td>-0.415</td>\n",
       "      <td>-0.125</td>\n",
       "    </tr>\n",
       "    <tr>\n",
       "      <th>3</th>\n",
       "      <td>N</td>\n",
       "      <td>-0.425</td>\n",
       "      <td>-0.110</td>\n",
       "      <td>-0.425</td>\n",
       "      <td>-0.105</td>\n",
       "      <td>-0.400</td>\n",
       "      <td>-0.105</td>\n",
       "      <td>-0.405</td>\n",
       "      <td>-0.115</td>\n",
       "      <td>-0.415</td>\n",
       "      <td>...</td>\n",
       "      <td>-0.340</td>\n",
       "      <td>-0.155</td>\n",
       "      <td>-0.32</td>\n",
       "      <td>-0.155</td>\n",
       "      <td>-0.330</td>\n",
       "      <td>-0.155</td>\n",
       "      <td>-0.340</td>\n",
       "      <td>-0.165</td>\n",
       "      <td>-0.330</td>\n",
       "      <td>-0.170</td>\n",
       "    </tr>\n",
       "    <tr>\n",
       "      <th>4</th>\n",
       "      <td>N</td>\n",
       "      <td>-0.330</td>\n",
       "      <td>-0.110</td>\n",
       "      <td>-0.335</td>\n",
       "      <td>-0.125</td>\n",
       "      <td>-0.340</td>\n",
       "      <td>-0.135</td>\n",
       "      <td>-0.355</td>\n",
       "      <td>-0.150</td>\n",
       "      <td>-0.365</td>\n",
       "      <td>...</td>\n",
       "      <td>-0.450</td>\n",
       "      <td>-0.125</td>\n",
       "      <td>-0.47</td>\n",
       "      <td>-0.140</td>\n",
       "      <td>-0.485</td>\n",
       "      <td>-0.130</td>\n",
       "      <td>-0.470</td>\n",
       "      <td>-0.125</td>\n",
       "      <td>-0.450</td>\n",
       "      <td>-0.090</td>\n",
       "    </tr>\n",
       "  </tbody>\n",
       "</table>\n",
       "<p>5 rows × 721 columns</p>\n",
       "</div>"
      ],
      "text/plain": [
       "  Labels  sample_0_ch_0  sample_0_ch_1  sample_1_ch_0  sample_1_ch_1  \\\n",
       "0      N         -0.355         -0.205         -0.355         -0.190   \n",
       "1      N         -0.295         -0.165         -0.295         -0.180   \n",
       "2      N         -0.365         -0.160         -0.365         -0.145   \n",
       "3      N         -0.425         -0.110         -0.425         -0.105   \n",
       "4      N         -0.330         -0.110         -0.335         -0.125   \n",
       "\n",
       "   sample_2_ch_0  sample_2_ch_1  sample_3_ch_0  sample_3_ch_1  sample_4_ch_0  \\\n",
       "0         -0.365         -0.175         -0.345         -0.175         -0.345   \n",
       "1         -0.310         -0.200         -0.320         -0.200         -0.305   \n",
       "2         -0.345         -0.125         -0.350         -0.120         -0.360   \n",
       "3         -0.400         -0.105         -0.405         -0.115         -0.415   \n",
       "4         -0.340         -0.135         -0.355         -0.150         -0.365   \n",
       "\n",
       "   ...  sample_355_ch_0  sample_355_ch_1  sample_356_ch_0  sample_356_ch_1  \\\n",
       "0  ...           -0.265           -0.185            -0.27           -0.165   \n",
       "1  ...           -0.340           -0.140            -0.34           -0.175   \n",
       "2  ...           -0.415           -0.140            -0.41           -0.145   \n",
       "3  ...           -0.340           -0.155            -0.32           -0.155   \n",
       "4  ...           -0.450           -0.125            -0.47           -0.140   \n",
       "\n",
       "   sample_357_ch_0  sample_357_ch_1  sample_358_ch_0  sample_358_ch_1  \\\n",
       "0           -0.260           -0.160           -0.260           -0.175   \n",
       "1           -0.350           -0.180           -0.340           -0.150   \n",
       "2           -0.400           -0.145           -0.415           -0.135   \n",
       "3           -0.330           -0.155           -0.340           -0.165   \n",
       "4           -0.485           -0.130           -0.470           -0.125   \n",
       "\n",
       "   sample_359_ch_0  sample_359_ch_1  \n",
       "0           -0.265           -0.185  \n",
       "1           -0.325           -0.135  \n",
       "2           -0.415           -0.125  \n",
       "3           -0.330           -0.170  \n",
       "4           -0.450           -0.090  \n",
       "\n",
       "[5 rows x 721 columns]"
      ]
     },
     "execution_count": 21,
     "metadata": {},
     "output_type": "execute_result"
    }
   ],
   "source": [
    "# Load the data\n",
    "df = pd.read_csv(output_csv_path)\n",
    "df.head()"
   ]
  },
  {
   "cell_type": "markdown",
   "id": "e4b89744",
   "metadata": {
    "papermill": {
     "duration": 0.154184,
     "end_time": "2024-06-23T10:08:17.309380",
     "exception": false,
     "start_time": "2024-06-23T10:08:17.155196",
     "status": "completed"
    },
    "tags": []
   },
   "source": [
    "## Check the Unique labels"
   ]
  },
  {
   "cell_type": "code",
   "execution_count": 22,
   "id": "d16c1be2",
   "metadata": {
    "execution": {
     "iopub.execute_input": "2024-06-23T10:08:17.670459Z",
     "iopub.status.busy": "2024-06-23T10:08:17.669580Z",
     "iopub.status.idle": "2024-06-23T10:08:17.677175Z",
     "shell.execute_reply": "2024-06-23T10:08:17.676266Z"
    },
    "papermill": {
     "duration": 0.213731,
     "end_time": "2024-06-23T10:08:17.679149",
     "exception": false,
     "start_time": "2024-06-23T10:08:17.465418",
     "status": "completed"
    },
    "tags": []
   },
   "outputs": [
    {
     "data": {
      "text/plain": [
       "array(['N', '~', '|', 'Q', 'A', '+', 'V', '/', 'f', 'R'], dtype=object)"
      ]
     },
     "execution_count": 22,
     "metadata": {},
     "output_type": "execute_result"
    }
   ],
   "source": [
    "df.Labels.unique()"
   ]
  },
  {
   "cell_type": "markdown",
   "id": "4dfa522b",
   "metadata": {
    "papermill": {
     "duration": 0.168462,
     "end_time": "2024-06-23T10:08:18.012392",
     "exception": false,
     "start_time": "2024-06-23T10:08:17.843930",
     "status": "completed"
    },
    "tags": []
   },
   "source": [
    "The MIT-BIH Arrhythmia Database uses a variety of annotations to denote different types of beats and rhythm changes. Below is the meaning of each label:\n",
    "\n",
    "- **N**: Normal beat\n",
    "- **A**: Atrial premature beat\n",
    "- **V**: Premature ventricular contraction\n",
    "- **~**: Signal quality change\n",
    "- **|**: Isolated QRS-like artifact\n",
    "- **Q**: Unclassifiable beat\n",
    "- **/**: Pace spike\n",
    "- **f**: Fusion of ventricular and normal beat\n",
    "- **+**: Rhythm change\n",
    "- **x**: Non-conducted P-wave (blocked APB)\n",
    "- **F**: Fusion of paced and normal beat\n",
    "- **j**: Nodal (junctional) escape beat\n",
    "- **L**: Left bundle branch block beat\n",
    "- **a**: Aberrated atrial premature beat\n",
    "- **J**: Nodal (junctional) premature beat\n",
    "- **R**: Right bundle branch block beat\n",
    "- **[**: Start of ventricular flutter/fibrillation\n",
    "- **!**: Ventricular flutter wave\n",
    "- **]**: End of ventricular flutter/fibrillation\n",
    "- **E**: Ventricular escape beat\n",
    "- **S**: Supraventricular premature beat\n",
    "- **\"**: Ventricular premature beat\n",
    "- **e**: Atrial escape beat\n",
    "\n",
    "These labels represent different types of cardiac events and abnormalities, which are essential for the analysis of arrhythmias and other cardiac conditions. The labels can be grouped into categories such as normal beats, abnormal beats, artifacts, and rhythm changes."
   ]
  },
  {
   "cell_type": "markdown",
   "id": "2d6542ac",
   "metadata": {
    "papermill": {
     "duration": 0.156328,
     "end_time": "2024-06-23T10:08:18.335161",
     "exception": false,
     "start_time": "2024-06-23T10:08:18.178833",
     "status": "completed"
    },
    "tags": []
   },
   "source": [
    "# Categorize the Annotations into Broader Categories\n",
    "Categorize the annotations into broader categories to simplify the classification task. Here's a possible grouping of the annotations into top categories:\n",
    "\n",
    "1. **Normal beats (N)**\n",
    "2. **Abnormal beats (A, V, L, R, E, F, J, a, S)**\n",
    "3. **Artifacts and noise (~, |, /, x, +, [ , ], \", Q, !)**\n",
    "4. **Fusion beats (f)**\n",
    "5. **Escape beats (e, j)**\n",
    "\n",
    "Here’s how you can categorize these labels in your dataset:\n",
    "\n",
    "- **Normal beats**:\n",
    "  - `N`\n",
    "\n",
    "- **Abnormal beats**:\n",
    "  - `A`: Atrial premature beat\n",
    "  - `V`: Premature ventricular contraction\n",
    "  - `L`: Left bundle branch block beat\n",
    "  - `R`: Right bundle branch block beat\n",
    "  - `E`: Ventricular escape beat\n",
    "  - `F`: Fusion of paced and normal beat\n",
    "  - `J`: Nodal (junctional) premature beat\n",
    "  - `a`: Aberrated atrial premature beat\n",
    "  - `S`: Supraventricular premature beat\n",
    "\n",
    "- **Artifacts and noise**:\n",
    "  - `~`: Signal quality change\n",
    "  - `|`: Isolated QRS-like artifact\n",
    "  - `/`: Pace spike\n",
    "  - `x`: Non-conducted P-wave (blocked APB)\n",
    "  - `+`: Rhythm change\n",
    "  - `[`: Start of ventricular flutter/fibrillation\n",
    "  - `!`: Ventricular flutter wave\n",
    "  - `]`: End of ventricular flutter/fibrillation\n",
    "  - `\"`: Ventricular premature beat\n",
    "  - `Q`: Unclassifiable beat\n",
    "\n",
    "- **Fusion beats**:\n",
    "  - `f`: Fusion of ventricular and normal beat\n",
    "\n",
    "- **Escape beats**:\n",
    "  - `e`: Atrial escape beat\n",
    "  - `j`: Nodal (junctional) escape beat\n",
    "\n",
    "Let's create a mapping and apply it to the DataFrame to categorize the labels:"
   ]
  },
  {
   "cell_type": "code",
   "execution_count": 23,
   "id": "ee1586bb",
   "metadata": {
    "execution": {
     "iopub.execute_input": "2024-06-23T10:08:18.650008Z",
     "iopub.status.busy": "2024-06-23T10:08:18.648982Z",
     "iopub.status.idle": "2024-06-23T10:08:18.656082Z",
     "shell.execute_reply": "2024-06-23T10:08:18.655092Z"
    },
    "papermill": {
     "duration": 0.167007,
     "end_time": "2024-06-23T10:08:18.658188",
     "exception": false,
     "start_time": "2024-06-23T10:08:18.491181",
     "status": "completed"
    },
    "tags": []
   },
   "outputs": [],
   "source": [
    "# Define the label mapping\n",
    "label_mapping = {\n",
    "    'N': 'Normal',\n",
    "    'A': 'Abnormal',\n",
    "    'V': 'Abnormal',\n",
    "    'L': 'Abnormal',\n",
    "    'R': 'Abnormal',\n",
    "    'E': 'Abnormal',\n",
    "    'F': 'Abnormal',\n",
    "    'J': 'Abnormal',\n",
    "    'a': 'Abnormal',\n",
    "    'S': 'Abnormal',\n",
    "    '~': 'Artifact',\n",
    "    '|': 'Artifact',\n",
    "    '/': 'Artifact',\n",
    "    'x': 'Artifact',\n",
    "    '+': 'Artifact',\n",
    "    '[': 'Artifact',\n",
    "    '!': 'Artifact',\n",
    "    ']': 'Artifact',\n",
    "    '\"': 'Artifact',\n",
    "    'Q': 'Artifact',\n",
    "    'f': 'Fusion',\n",
    "    'e': 'Escape',\n",
    "    'j': 'Escape'\n",
    "}"
   ]
  },
  {
   "cell_type": "code",
   "execution_count": 24,
   "id": "2ce4c9f5",
   "metadata": {
    "execution": {
     "iopub.execute_input": "2024-06-23T10:08:18.968572Z",
     "iopub.status.busy": "2024-06-23T10:08:18.968175Z",
     "iopub.status.idle": "2024-06-23T10:08:18.996408Z",
     "shell.execute_reply": "2024-06-23T10:08:18.995558Z"
    },
    "papermill": {
     "duration": 0.184342,
     "end_time": "2024-06-23T10:08:18.998952",
     "exception": false,
     "start_time": "2024-06-23T10:08:18.814610",
     "status": "completed"
    },
    "tags": []
   },
   "outputs": [],
   "source": [
    "# Apply the mapping to the label column\n",
    "df['category'] = df['Labels'].map(label_mapping)\n",
    "\n",
    "# Drop the original label column if you only need the categories\n",
    "df.drop(columns=['Labels'], inplace=True)"
   ]
  },
  {
   "cell_type": "markdown",
   "id": "5d0406a5",
   "metadata": {
    "papermill": {
     "duration": 0.160234,
     "end_time": "2024-06-23T10:08:19.321755",
     "exception": false,
     "start_time": "2024-06-23T10:08:19.161521",
     "status": "completed"
    },
    "tags": []
   },
   "source": [
    "# Split Input & Target Features"
   ]
  },
  {
   "cell_type": "code",
   "execution_count": 25,
   "id": "89e924ef",
   "metadata": {
    "execution": {
     "iopub.execute_input": "2024-06-23T10:08:19.634625Z",
     "iopub.status.busy": "2024-06-23T10:08:19.634236Z",
     "iopub.status.idle": "2024-06-23T10:08:19.643075Z",
     "shell.execute_reply": "2024-06-23T10:08:19.642138Z"
    },
    "papermill": {
     "duration": 0.16685,
     "end_time": "2024-06-23T10:08:19.645272",
     "exception": false,
     "start_time": "2024-06-23T10:08:19.478422",
     "status": "completed"
    },
    "tags": []
   },
   "outputs": [
    {
     "data": {
      "text/plain": [
       "array(['Normal', 'Artifact', 'Abnormal', 'Fusion'], dtype=object)"
      ]
     },
     "execution_count": 25,
     "metadata": {},
     "output_type": "execute_result"
    }
   ],
   "source": [
    "classes= df.category.nunique()\n",
    "df.category.unique()"
   ]
  },
  {
   "cell_type": "code",
   "execution_count": 26,
   "id": "6aa2dfbc",
   "metadata": {
    "execution": {
     "iopub.execute_input": "2024-06-23T10:08:19.974585Z",
     "iopub.status.busy": "2024-06-23T10:08:19.974183Z",
     "iopub.status.idle": "2024-06-23T10:08:19.983815Z",
     "shell.execute_reply": "2024-06-23T10:08:19.982795Z"
    },
    "papermill": {
     "duration": 0.172248,
     "end_time": "2024-06-23T10:08:19.985819",
     "exception": false,
     "start_time": "2024-06-23T10:08:19.813571",
     "status": "completed"
    },
    "tags": []
   },
   "outputs": [
    {
     "data": {
      "text/plain": [
       "category\n",
       "Normal      7230\n",
       "Abnormal    1991\n",
       "Artifact    1854\n",
       "Fusion       260\n",
       "Name: count, dtype: int64"
      ]
     },
     "execution_count": 26,
     "metadata": {},
     "output_type": "execute_result"
    }
   ],
   "source": [
    "df['category'].value_counts()"
   ]
  },
  {
   "cell_type": "code",
   "execution_count": 27,
   "id": "3d75db69",
   "metadata": {
    "execution": {
     "iopub.execute_input": "2024-06-23T10:08:20.302258Z",
     "iopub.status.busy": "2024-06-23T10:08:20.301908Z",
     "iopub.status.idle": "2024-06-23T10:08:20.309964Z",
     "shell.execute_reply": "2024-06-23T10:08:20.308853Z"
    },
    "papermill": {
     "duration": 0.164123,
     "end_time": "2024-06-23T10:08:20.312000",
     "exception": false,
     "start_time": "2024-06-23T10:08:20.147877",
     "status": "completed"
    },
    "tags": []
   },
   "outputs": [],
   "source": [
    "# Create a mapping from category names to integers\n",
    "category_mapping = {label: idx for idx, label in enumerate(df['category'].unique())}\n",
    "df['category'] = df['category'].map(category_mapping)"
   ]
  },
  {
   "cell_type": "code",
   "execution_count": 28,
   "id": "64f1fea9",
   "metadata": {
    "execution": {
     "iopub.execute_input": "2024-06-23T10:08:20.623236Z",
     "iopub.status.busy": "2024-06-23T10:08:20.622886Z",
     "iopub.status.idle": "2024-06-23T10:08:20.647970Z",
     "shell.execute_reply": "2024-06-23T10:08:20.646942Z"
    },
    "papermill": {
     "duration": 0.187671,
     "end_time": "2024-06-23T10:08:20.650420",
     "exception": false,
     "start_time": "2024-06-23T10:08:20.462749",
     "status": "completed"
    },
    "tags": []
   },
   "outputs": [],
   "source": [
    "records = df.drop(['category'], axis=1).values\n",
    "labels  = df['category'].values"
   ]
  },
  {
   "cell_type": "markdown",
   "id": "3b912ec8",
   "metadata": {
    "papermill": {
     "duration": 0.157635,
     "end_time": "2024-06-23T10:08:20.971656",
     "exception": false,
     "start_time": "2024-06-23T10:08:20.814021",
     "status": "completed"
    },
    "tags": []
   },
   "source": [
    "## Balance the dataset using SMOTE"
   ]
  },
  {
   "cell_type": "code",
   "execution_count": 29,
   "id": "07a84fcf",
   "metadata": {
    "execution": {
     "iopub.execute_input": "2024-06-23T10:08:21.278796Z",
     "iopub.status.busy": "2024-06-23T10:08:21.278396Z",
     "iopub.status.idle": "2024-06-23T10:08:21.779310Z",
     "shell.execute_reply": "2024-06-23T10:08:21.778142Z"
    },
    "papermill": {
     "duration": 0.657725,
     "end_time": "2024-06-23T10:08:21.781328",
     "exception": false,
     "start_time": "2024-06-23T10:08:21.123603",
     "status": "completed"
    },
    "tags": []
   },
   "outputs": [
    {
     "name": "stdout",
     "output_type": "stream",
     "text": [
      "Counter({0: 7230, 1: 7230, 2: 7230, 3: 7230})\n"
     ]
    }
   ],
   "source": [
    "# Assuming `X` contains your features and `y` contains the target labels\n",
    "smote = SMOTE(random_state=123)\n",
    "balanced_records, balanced_labels = smote.fit_resample(records, labels)\n",
    "\n",
    "# Display new class counts\n",
    "print(Counter(balanced_labels))"
   ]
  },
  {
   "cell_type": "code",
   "execution_count": 30,
   "id": "d679eb89",
   "metadata": {
    "execution": {
     "iopub.execute_input": "2024-06-23T10:08:22.092346Z",
     "iopub.status.busy": "2024-06-23T10:08:22.091982Z",
     "iopub.status.idle": "2024-06-23T10:08:22.098626Z",
     "shell.execute_reply": "2024-06-23T10:08:22.097568Z"
    },
    "papermill": {
     "duration": 0.165882,
     "end_time": "2024-06-23T10:08:22.100907",
     "exception": false,
     "start_time": "2024-06-23T10:08:21.935025",
     "status": "completed"
    },
    "tags": []
   },
   "outputs": [
    {
     "name": "stdout",
     "output_type": "stream",
     "text": [
      "(28920, 360, 2) (28920, 4)\n"
     ]
    }
   ],
   "source": [
    "# Reshape the data\n",
    "Balanced_records= balanced_records.reshape((balanced_records.shape[0],360,2))\n",
    "\n",
    "# Convert target variables to categorical values\n",
    "Balanced_labels=to_categorical(balanced_labels)\n",
    "print(Balanced_records.shape,Balanced_labels.shape)"
   ]
  },
  {
   "cell_type": "markdown",
   "id": "362a031a",
   "metadata": {
    "papermill": {
     "duration": 0.168513,
     "end_time": "2024-06-23T10:08:22.429525",
     "exception": false,
     "start_time": "2024-06-23T10:08:22.261012",
     "status": "completed"
    },
    "tags": []
   },
   "source": [
    "## Split the data into train and test"
   ]
  },
  {
   "cell_type": "code",
   "execution_count": 31,
   "id": "623a331d",
   "metadata": {
    "execution": {
     "iopub.execute_input": "2024-06-23T10:08:22.736878Z",
     "iopub.status.busy": "2024-06-23T10:08:22.736458Z",
     "iopub.status.idle": "2024-06-23T10:08:22.795721Z",
     "shell.execute_reply": "2024-06-23T10:08:22.794645Z"
    },
    "papermill": {
     "duration": 0.21609,
     "end_time": "2024-06-23T10:08:22.797853",
     "exception": false,
     "start_time": "2024-06-23T10:08:22.581763",
     "status": "completed"
    },
    "tags": []
   },
   "outputs": [
    {
     "name": "stdout",
     "output_type": "stream",
     "text": [
      "X_train shape: (23136, 360, 2), y_train shape: (23136, 4)\n",
      "X_test shape: (5784, 360, 2), y_test shape: (5784, 4)\n"
     ]
    }
   ],
   "source": [
    "# Split data into training and testing sets\n",
    "X_train, X_test, y_train, y_test = train_test_split(Balanced_records, Balanced_labels, test_size=0.2,shuffle=True, random_state=42)\n",
    "\n",
    "# Check the shape of the target variables\n",
    "print(f\"X_train shape: {X_train.shape}, y_train shape: {y_train.shape}\")\n",
    "print(f\"X_test shape: {X_test.shape}, y_test shape: {y_test.shape}\")"
   ]
  },
  {
   "cell_type": "markdown",
   "id": "f3ed5275",
   "metadata": {
    "papermill": {
     "duration": 0.151654,
     "end_time": "2024-06-23T10:08:23.106026",
     "exception": false,
     "start_time": "2024-06-23T10:08:22.954372",
     "status": "completed"
    },
    "tags": []
   },
   "source": [
    "# Build & Train the model"
   ]
  },
  {
   "cell_type": "code",
   "execution_count": 32,
   "id": "17639862",
   "metadata": {
    "execution": {
     "iopub.execute_input": "2024-06-23T10:08:23.461599Z",
     "iopub.status.busy": "2024-06-23T10:08:23.461228Z",
     "iopub.status.idle": "2024-06-23T10:08:24.233436Z",
     "shell.execute_reply": "2024-06-23T10:08:24.232297Z"
    },
    "papermill": {
     "duration": 0.928835,
     "end_time": "2024-06-23T10:08:24.235450",
     "exception": false,
     "start_time": "2024-06-23T10:08:23.306615",
     "status": "completed"
    },
    "tags": []
   },
   "outputs": [
    {
     "data": {
      "text/html": [
       "<pre style=\"white-space:pre;overflow-x:auto;line-height:normal;font-family:Menlo,'DejaVu Sans Mono',consolas,'Courier New',monospace\"><span style=\"font-weight: bold\">Model: \"functional_1\"</span>\n",
       "</pre>\n"
      ],
      "text/plain": [
       "\u001b[1mModel: \"functional_1\"\u001b[0m\n"
      ]
     },
     "metadata": {},
     "output_type": "display_data"
    },
    {
     "data": {
      "text/html": [
       "<pre style=\"white-space:pre;overflow-x:auto;line-height:normal;font-family:Menlo,'DejaVu Sans Mono',consolas,'Courier New',monospace\">┏━━━━━━━━━━━━━━━━━━━━━━━━━━━━━━━━━┳━━━━━━━━━━━━━━━━━━━━━━━━┳━━━━━━━━━━━━━━━┓\n",
       "┃<span style=\"font-weight: bold\"> Layer (type)                    </span>┃<span style=\"font-weight: bold\"> Output Shape           </span>┃<span style=\"font-weight: bold\">       Param # </span>┃\n",
       "┡━━━━━━━━━━━━━━━━━━━━━━━━━━━━━━━━━╇━━━━━━━━━━━━━━━━━━━━━━━━╇━━━━━━━━━━━━━━━┩\n",
       "│ input_layer (<span style=\"color: #0087ff; text-decoration-color: #0087ff\">InputLayer</span>)        │ (<span style=\"color: #00d7ff; text-decoration-color: #00d7ff\">None</span>, <span style=\"color: #00af00; text-decoration-color: #00af00\">360</span>, <span style=\"color: #00af00; text-decoration-color: #00af00\">2</span>)         │             <span style=\"color: #00af00; text-decoration-color: #00af00\">0</span> │\n",
       "├─────────────────────────────────┼────────────────────────┼───────────────┤\n",
       "│ conv1d (<span style=\"color: #0087ff; text-decoration-color: #0087ff\">Conv1D</span>)                 │ (<span style=\"color: #00d7ff; text-decoration-color: #00d7ff\">None</span>, <span style=\"color: #00af00; text-decoration-color: #00af00\">360</span>, <span style=\"color: #00af00; text-decoration-color: #00af00\">128</span>)       │         <span style=\"color: #00af00; text-decoration-color: #00af00\">3,968</span> │\n",
       "├─────────────────────────────────┼────────────────────────┼───────────────┤\n",
       "│ batch_normalization             │ (<span style=\"color: #00d7ff; text-decoration-color: #00d7ff\">None</span>, <span style=\"color: #00af00; text-decoration-color: #00af00\">360</span>, <span style=\"color: #00af00; text-decoration-color: #00af00\">128</span>)       │           <span style=\"color: #00af00; text-decoration-color: #00af00\">512</span> │\n",
       "│ (<span style=\"color: #0087ff; text-decoration-color: #0087ff\">BatchNormalization</span>)            │                        │               │\n",
       "├─────────────────────────────────┼────────────────────────┼───────────────┤\n",
       "│ activation (<span style=\"color: #0087ff; text-decoration-color: #0087ff\">Activation</span>)         │ (<span style=\"color: #00d7ff; text-decoration-color: #00d7ff\">None</span>, <span style=\"color: #00af00; text-decoration-color: #00af00\">360</span>, <span style=\"color: #00af00; text-decoration-color: #00af00\">128</span>)       │             <span style=\"color: #00af00; text-decoration-color: #00af00\">0</span> │\n",
       "├─────────────────────────────────┼────────────────────────┼───────────────┤\n",
       "│ spatial_dropout1d               │ (<span style=\"color: #00d7ff; text-decoration-color: #00d7ff\">None</span>, <span style=\"color: #00af00; text-decoration-color: #00af00\">360</span>, <span style=\"color: #00af00; text-decoration-color: #00af00\">128</span>)       │             <span style=\"color: #00af00; text-decoration-color: #00af00\">0</span> │\n",
       "│ (<span style=\"color: #0087ff; text-decoration-color: #0087ff\">SpatialDropout1D</span>)              │                        │               │\n",
       "├─────────────────────────────────┼────────────────────────┼───────────────┤\n",
       "│ conv1d_1 (<span style=\"color: #0087ff; text-decoration-color: #0087ff\">Conv1D</span>)               │ (<span style=\"color: #00d7ff; text-decoration-color: #00d7ff\">None</span>, <span style=\"color: #00af00; text-decoration-color: #00af00\">360</span>, <span style=\"color: #00af00; text-decoration-color: #00af00\">256</span>)       │       <span style=\"color: #00af00; text-decoration-color: #00af00\">327,936</span> │\n",
       "├─────────────────────────────────┼────────────────────────┼───────────────┤\n",
       "│ batch_normalization_1           │ (<span style=\"color: #00d7ff; text-decoration-color: #00d7ff\">None</span>, <span style=\"color: #00af00; text-decoration-color: #00af00\">360</span>, <span style=\"color: #00af00; text-decoration-color: #00af00\">256</span>)       │         <span style=\"color: #00af00; text-decoration-color: #00af00\">1,024</span> │\n",
       "│ (<span style=\"color: #0087ff; text-decoration-color: #0087ff\">BatchNormalization</span>)            │                        │               │\n",
       "├─────────────────────────────────┼────────────────────────┼───────────────┤\n",
       "│ activation_1 (<span style=\"color: #0087ff; text-decoration-color: #0087ff\">Activation</span>)       │ (<span style=\"color: #00d7ff; text-decoration-color: #00d7ff\">None</span>, <span style=\"color: #00af00; text-decoration-color: #00af00\">360</span>, <span style=\"color: #00af00; text-decoration-color: #00af00\">256</span>)       │             <span style=\"color: #00af00; text-decoration-color: #00af00\">0</span> │\n",
       "├─────────────────────────────────┼────────────────────────┼───────────────┤\n",
       "│ spatial_dropout1d_1             │ (<span style=\"color: #00d7ff; text-decoration-color: #00d7ff\">None</span>, <span style=\"color: #00af00; text-decoration-color: #00af00\">360</span>, <span style=\"color: #00af00; text-decoration-color: #00af00\">256</span>)       │             <span style=\"color: #00af00; text-decoration-color: #00af00\">0</span> │\n",
       "│ (<span style=\"color: #0087ff; text-decoration-color: #0087ff\">SpatialDropout1D</span>)              │                        │               │\n",
       "├─────────────────────────────────┼────────────────────────┼───────────────┤\n",
       "│ conv1d_2 (<span style=\"color: #0087ff; text-decoration-color: #0087ff\">Conv1D</span>)               │ (<span style=\"color: #00d7ff; text-decoration-color: #00d7ff\">None</span>, <span style=\"color: #00af00; text-decoration-color: #00af00\">360</span>, <span style=\"color: #00af00; text-decoration-color: #00af00\">512</span>)       │       <span style=\"color: #00af00; text-decoration-color: #00af00\">655,872</span> │\n",
       "├─────────────────────────────────┼────────────────────────┼───────────────┤\n",
       "│ batch_normalization_2           │ (<span style=\"color: #00d7ff; text-decoration-color: #00d7ff\">None</span>, <span style=\"color: #00af00; text-decoration-color: #00af00\">360</span>, <span style=\"color: #00af00; text-decoration-color: #00af00\">512</span>)       │         <span style=\"color: #00af00; text-decoration-color: #00af00\">2,048</span> │\n",
       "│ (<span style=\"color: #0087ff; text-decoration-color: #0087ff\">BatchNormalization</span>)            │                        │               │\n",
       "├─────────────────────────────────┼────────────────────────┼───────────────┤\n",
       "│ activation_2 (<span style=\"color: #0087ff; text-decoration-color: #0087ff\">Activation</span>)       │ (<span style=\"color: #00d7ff; text-decoration-color: #00d7ff\">None</span>, <span style=\"color: #00af00; text-decoration-color: #00af00\">360</span>, <span style=\"color: #00af00; text-decoration-color: #00af00\">512</span>)       │             <span style=\"color: #00af00; text-decoration-color: #00af00\">0</span> │\n",
       "├─────────────────────────────────┼────────────────────────┼───────────────┤\n",
       "│ dropout (<span style=\"color: #0087ff; text-decoration-color: #0087ff\">Dropout</span>)               │ (<span style=\"color: #00d7ff; text-decoration-color: #00d7ff\">None</span>, <span style=\"color: #00af00; text-decoration-color: #00af00\">360</span>, <span style=\"color: #00af00; text-decoration-color: #00af00\">512</span>)       │             <span style=\"color: #00af00; text-decoration-color: #00af00\">0</span> │\n",
       "├─────────────────────────────────┼────────────────────────┼───────────────┤\n",
       "│ global_average_pooling1d        │ (<span style=\"color: #00d7ff; text-decoration-color: #00d7ff\">None</span>, <span style=\"color: #00af00; text-decoration-color: #00af00\">512</span>)            │             <span style=\"color: #00af00; text-decoration-color: #00af00\">0</span> │\n",
       "│ (<span style=\"color: #0087ff; text-decoration-color: #0087ff\">GlobalAveragePooling1D</span>)        │                        │               │\n",
       "├─────────────────────────────────┼────────────────────────┼───────────────┤\n",
       "│ output_layer (<span style=\"color: #0087ff; text-decoration-color: #0087ff\">Dense</span>)            │ (<span style=\"color: #00d7ff; text-decoration-color: #00d7ff\">None</span>, <span style=\"color: #00af00; text-decoration-color: #00af00\">4</span>)              │         <span style=\"color: #00af00; text-decoration-color: #00af00\">2,052</span> │\n",
       "└─────────────────────────────────┴────────────────────────┴───────────────┘\n",
       "</pre>\n"
      ],
      "text/plain": [
       "┏━━━━━━━━━━━━━━━━━━━━━━━━━━━━━━━━━┳━━━━━━━━━━━━━━━━━━━━━━━━┳━━━━━━━━━━━━━━━┓\n",
       "┃\u001b[1m \u001b[0m\u001b[1mLayer (type)                   \u001b[0m\u001b[1m \u001b[0m┃\u001b[1m \u001b[0m\u001b[1mOutput Shape          \u001b[0m\u001b[1m \u001b[0m┃\u001b[1m \u001b[0m\u001b[1m      Param #\u001b[0m\u001b[1m \u001b[0m┃\n",
       "┡━━━━━━━━━━━━━━━━━━━━━━━━━━━━━━━━━╇━━━━━━━━━━━━━━━━━━━━━━━━╇━━━━━━━━━━━━━━━┩\n",
       "│ input_layer (\u001b[38;5;33mInputLayer\u001b[0m)        │ (\u001b[38;5;45mNone\u001b[0m, \u001b[38;5;34m360\u001b[0m, \u001b[38;5;34m2\u001b[0m)         │             \u001b[38;5;34m0\u001b[0m │\n",
       "├─────────────────────────────────┼────────────────────────┼───────────────┤\n",
       "│ conv1d (\u001b[38;5;33mConv1D\u001b[0m)                 │ (\u001b[38;5;45mNone\u001b[0m, \u001b[38;5;34m360\u001b[0m, \u001b[38;5;34m128\u001b[0m)       │         \u001b[38;5;34m3,968\u001b[0m │\n",
       "├─────────────────────────────────┼────────────────────────┼───────────────┤\n",
       "│ batch_normalization             │ (\u001b[38;5;45mNone\u001b[0m, \u001b[38;5;34m360\u001b[0m, \u001b[38;5;34m128\u001b[0m)       │           \u001b[38;5;34m512\u001b[0m │\n",
       "│ (\u001b[38;5;33mBatchNormalization\u001b[0m)            │                        │               │\n",
       "├─────────────────────────────────┼────────────────────────┼───────────────┤\n",
       "│ activation (\u001b[38;5;33mActivation\u001b[0m)         │ (\u001b[38;5;45mNone\u001b[0m, \u001b[38;5;34m360\u001b[0m, \u001b[38;5;34m128\u001b[0m)       │             \u001b[38;5;34m0\u001b[0m │\n",
       "├─────────────────────────────────┼────────────────────────┼───────────────┤\n",
       "│ spatial_dropout1d               │ (\u001b[38;5;45mNone\u001b[0m, \u001b[38;5;34m360\u001b[0m, \u001b[38;5;34m128\u001b[0m)       │             \u001b[38;5;34m0\u001b[0m │\n",
       "│ (\u001b[38;5;33mSpatialDropout1D\u001b[0m)              │                        │               │\n",
       "├─────────────────────────────────┼────────────────────────┼───────────────┤\n",
       "│ conv1d_1 (\u001b[38;5;33mConv1D\u001b[0m)               │ (\u001b[38;5;45mNone\u001b[0m, \u001b[38;5;34m360\u001b[0m, \u001b[38;5;34m256\u001b[0m)       │       \u001b[38;5;34m327,936\u001b[0m │\n",
       "├─────────────────────────────────┼────────────────────────┼───────────────┤\n",
       "│ batch_normalization_1           │ (\u001b[38;5;45mNone\u001b[0m, \u001b[38;5;34m360\u001b[0m, \u001b[38;5;34m256\u001b[0m)       │         \u001b[38;5;34m1,024\u001b[0m │\n",
       "│ (\u001b[38;5;33mBatchNormalization\u001b[0m)            │                        │               │\n",
       "├─────────────────────────────────┼────────────────────────┼───────────────┤\n",
       "│ activation_1 (\u001b[38;5;33mActivation\u001b[0m)       │ (\u001b[38;5;45mNone\u001b[0m, \u001b[38;5;34m360\u001b[0m, \u001b[38;5;34m256\u001b[0m)       │             \u001b[38;5;34m0\u001b[0m │\n",
       "├─────────────────────────────────┼────────────────────────┼───────────────┤\n",
       "│ spatial_dropout1d_1             │ (\u001b[38;5;45mNone\u001b[0m, \u001b[38;5;34m360\u001b[0m, \u001b[38;5;34m256\u001b[0m)       │             \u001b[38;5;34m0\u001b[0m │\n",
       "│ (\u001b[38;5;33mSpatialDropout1D\u001b[0m)              │                        │               │\n",
       "├─────────────────────────────────┼────────────────────────┼───────────────┤\n",
       "│ conv1d_2 (\u001b[38;5;33mConv1D\u001b[0m)               │ (\u001b[38;5;45mNone\u001b[0m, \u001b[38;5;34m360\u001b[0m, \u001b[38;5;34m512\u001b[0m)       │       \u001b[38;5;34m655,872\u001b[0m │\n",
       "├─────────────────────────────────┼────────────────────────┼───────────────┤\n",
       "│ batch_normalization_2           │ (\u001b[38;5;45mNone\u001b[0m, \u001b[38;5;34m360\u001b[0m, \u001b[38;5;34m512\u001b[0m)       │         \u001b[38;5;34m2,048\u001b[0m │\n",
       "│ (\u001b[38;5;33mBatchNormalization\u001b[0m)            │                        │               │\n",
       "├─────────────────────────────────┼────────────────────────┼───────────────┤\n",
       "│ activation_2 (\u001b[38;5;33mActivation\u001b[0m)       │ (\u001b[38;5;45mNone\u001b[0m, \u001b[38;5;34m360\u001b[0m, \u001b[38;5;34m512\u001b[0m)       │             \u001b[38;5;34m0\u001b[0m │\n",
       "├─────────────────────────────────┼────────────────────────┼───────────────┤\n",
       "│ dropout (\u001b[38;5;33mDropout\u001b[0m)               │ (\u001b[38;5;45mNone\u001b[0m, \u001b[38;5;34m360\u001b[0m, \u001b[38;5;34m512\u001b[0m)       │             \u001b[38;5;34m0\u001b[0m │\n",
       "├─────────────────────────────────┼────────────────────────┼───────────────┤\n",
       "│ global_average_pooling1d        │ (\u001b[38;5;45mNone\u001b[0m, \u001b[38;5;34m512\u001b[0m)            │             \u001b[38;5;34m0\u001b[0m │\n",
       "│ (\u001b[38;5;33mGlobalAveragePooling1D\u001b[0m)        │                        │               │\n",
       "├─────────────────────────────────┼────────────────────────┼───────────────┤\n",
       "│ output_layer (\u001b[38;5;33mDense\u001b[0m)            │ (\u001b[38;5;45mNone\u001b[0m, \u001b[38;5;34m4\u001b[0m)              │         \u001b[38;5;34m2,052\u001b[0m │\n",
       "└─────────────────────────────────┴────────────────────────┴───────────────┘\n"
      ]
     },
     "metadata": {},
     "output_type": "display_data"
    },
    {
     "data": {
      "text/html": [
       "<pre style=\"white-space:pre;overflow-x:auto;line-height:normal;font-family:Menlo,'DejaVu Sans Mono',consolas,'Courier New',monospace\"><span style=\"font-weight: bold\"> Total params: </span><span style=\"color: #00af00; text-decoration-color: #00af00\">993,412</span> (3.79 MB)\n",
       "</pre>\n"
      ],
      "text/plain": [
       "\u001b[1m Total params: \u001b[0m\u001b[38;5;34m993,412\u001b[0m (3.79 MB)\n"
      ]
     },
     "metadata": {},
     "output_type": "display_data"
    },
    {
     "data": {
      "text/html": [
       "<pre style=\"white-space:pre;overflow-x:auto;line-height:normal;font-family:Menlo,'DejaVu Sans Mono',consolas,'Courier New',monospace\"><span style=\"font-weight: bold\"> Trainable params: </span><span style=\"color: #00af00; text-decoration-color: #00af00\">991,620</span> (3.78 MB)\n",
       "</pre>\n"
      ],
      "text/plain": [
       "\u001b[1m Trainable params: \u001b[0m\u001b[38;5;34m991,620\u001b[0m (3.78 MB)\n"
      ]
     },
     "metadata": {},
     "output_type": "display_data"
    },
    {
     "data": {
      "text/html": [
       "<pre style=\"white-space:pre;overflow-x:auto;line-height:normal;font-family:Menlo,'DejaVu Sans Mono',consolas,'Courier New',monospace\"><span style=\"font-weight: bold\"> Non-trainable params: </span><span style=\"color: #00af00; text-decoration-color: #00af00\">1,792</span> (7.00 KB)\n",
       "</pre>\n"
      ],
      "text/plain": [
       "\u001b[1m Non-trainable params: \u001b[0m\u001b[38;5;34m1,792\u001b[0m (7.00 KB)\n"
      ]
     },
     "metadata": {},
     "output_type": "display_data"
    }
   ],
   "source": [
    "def build_model(input_shape, num_classes):\n",
    "    \"\"\"\n",
    "    Build a CNN model for classification of ECG signals.\n",
    "\n",
    "    Parameters:\n",
    "    - input_shape: tuple, shape of the input data (360, 2).\n",
    "    - num_classes: int, number of output classes.\n",
    "\n",
    "    Returns:\n",
    "    - model: keras.Model object, the compiled model.\n",
    "    \"\"\"\n",
    "    input_layer = keras.layers.Input(shape=input_shape)\n",
    "\n",
    "    # First Conv1D layer with BatchNormalization and SpatialDropout\n",
    "    conv1 = keras.layers.Conv1D(filters=128, kernel_size=15, padding='same')(input_layer)\n",
    "    conv1 = keras.layers.BatchNormalization()(conv1)\n",
    "    conv1 = keras.layers.Activation(activation='relu')(conv1)\n",
    "    conv1 = keras.layers.SpatialDropout1D(0.1)(conv1)\n",
    "\n",
    "    # Second Conv1D layer with BatchNormalization and SpatialDropout\n",
    "    conv2 = keras.layers.Conv1D(filters=256, kernel_size=10, padding='same')(conv1)\n",
    "    conv2 = keras.layers.BatchNormalization()(conv2)\n",
    "    conv2 = keras.layers.Activation('relu')(conv2)\n",
    "    conv2 = keras.layers.SpatialDropout1D(0.1)(conv2)\n",
    "\n",
    "    # Third Conv1D layer with BatchNormalization and Dropout\n",
    "    conv3 = keras.layers.Conv1D(filters=512, kernel_size=5, padding='same')(conv2)\n",
    "    conv3 = keras.layers.BatchNormalization()(conv3)\n",
    "    conv3 = keras.layers.Activation('relu')(conv3)\n",
    "    conv3 = keras.layers.Dropout(0.2)(conv3)\n",
    "\n",
    "    # Global Average Pooling layer\n",
    "    gap_layer = keras.layers.GlobalAveragePooling1D()(conv3)\n",
    "\n",
    "    # Output layer\n",
    "    output_layer = keras.layers.Dense(units=num_classes, activation='sigmoid', name='output_layer')(gap_layer)\n",
    "\n",
    "    # Create the model\n",
    "    model = keras.Model(inputs=input_layer, outputs=output_layer)\n",
    "\n",
    "    # Compile the model\n",
    "    model.compile(loss='categorical_crossentropy', optimizer='adam', metrics=['accuracy'])\n",
    "\n",
    "    return model\n",
    "\n",
    "# Define input shape and number of classes\n",
    "input_shape = (360, 2)  # Shape of each sample\n",
    "num_classes =  classes #5\n",
    "\n",
    "# Build and compile the model\n",
    "model = build_model(input_shape, num_classes)\n",
    "\n",
    "# Print the model summary\n",
    "model.summary()"
   ]
  },
  {
   "cell_type": "code",
   "execution_count": 33,
   "id": "a6b20543",
   "metadata": {
    "execution": {
     "iopub.execute_input": "2024-06-23T10:08:24.557330Z",
     "iopub.status.busy": "2024-06-23T10:08:24.556951Z",
     "iopub.status.idle": "2024-06-23T10:15:06.608350Z",
     "shell.execute_reply": "2024-06-23T10:15:06.607410Z"
    },
    "papermill": {
     "duration": 402.221023,
     "end_time": "2024-06-23T10:15:06.611027",
     "exception": false,
     "start_time": "2024-06-23T10:08:24.390004",
     "status": "completed"
    },
    "tags": []
   },
   "outputs": [
    {
     "name": "stdout",
     "output_type": "stream",
     "text": [
      "Epoch 1/70\n",
      "\u001b[1m  5/290\u001b[0m \u001b[37m━━━━━━━━━━━━━━━━━━━━\u001b[0m \u001b[1m8s\u001b[0m 31ms/step - accuracy: 0.5467 - loss: 1.1136"
     ]
    },
    {
     "name": "stderr",
     "output_type": "stream",
     "text": [
      "WARNING: All log messages before absl::InitializeLog() is called are written to STDERR\n",
      "I0000 00:00:1719137315.889322      79 device_compiler.h:186] Compiled cluster using XLA!  This line is logged at most once for the lifetime of the process.\n"
     ]
    },
    {
     "name": "stdout",
     "output_type": "stream",
     "text": [
      "\u001b[1m290/290\u001b[0m \u001b[32m━━━━━━━━━━━━━━━━━━━━\u001b[0m\u001b[37m\u001b[0m \u001b[1m28s\u001b[0m 58ms/step - accuracy: 0.8947 - loss: 0.3607 - val_accuracy: 0.4922 - val_loss: 1.9577\n",
      "Epoch 2/70\n",
      "\u001b[1m290/290\u001b[0m \u001b[32m━━━━━━━━━━━━━━━━━━━━\u001b[0m\u001b[37m\u001b[0m \u001b[1m9s\u001b[0m 31ms/step - accuracy: 0.9559 - loss: 0.1407 - val_accuracy: 0.9605 - val_loss: 0.1310\n",
      "Epoch 3/70\n",
      "\u001b[1m290/290\u001b[0m \u001b[32m━━━━━━━━━━━━━━━━━━━━\u001b[0m\u001b[37m\u001b[0m \u001b[1m9s\u001b[0m 30ms/step - accuracy: 0.9659 - loss: 0.1021 - val_accuracy: 0.9635 - val_loss: 0.1079\n",
      "Epoch 4/70\n",
      "\u001b[1m290/290\u001b[0m \u001b[32m━━━━━━━━━━━━━━━━━━━━\u001b[0m\u001b[37m\u001b[0m \u001b[1m9s\u001b[0m 31ms/step - accuracy: 0.9673 - loss: 0.0916 - val_accuracy: 0.9715 - val_loss: 0.0806\n",
      "Epoch 5/70\n",
      "\u001b[1m290/290\u001b[0m \u001b[32m━━━━━━━━━━━━━━━━━━━━\u001b[0m\u001b[37m\u001b[0m \u001b[1m9s\u001b[0m 31ms/step - accuracy: 0.9724 - loss: 0.0813 - val_accuracy: 0.9732 - val_loss: 0.0624\n",
      "Epoch 6/70\n",
      "\u001b[1m290/290\u001b[0m \u001b[32m━━━━━━━━━━━━━━━━━━━━\u001b[0m\u001b[37m\u001b[0m \u001b[1m9s\u001b[0m 30ms/step - accuracy: 0.9754 - loss: 0.0720 - val_accuracy: 0.9860 - val_loss: 0.0504\n",
      "Epoch 7/70\n",
      "\u001b[1m290/290\u001b[0m \u001b[32m━━━━━━━━━━━━━━━━━━━━\u001b[0m\u001b[37m\u001b[0m \u001b[1m9s\u001b[0m 30ms/step - accuracy: 0.9765 - loss: 0.0668 - val_accuracy: 0.9780 - val_loss: 0.0690\n",
      "Epoch 8/70\n",
      "\u001b[1m290/290\u001b[0m \u001b[32m━━━━━━━━━━━━━━━━━━━━\u001b[0m\u001b[37m\u001b[0m \u001b[1m9s\u001b[0m 30ms/step - accuracy: 0.9788 - loss: 0.0760 - val_accuracy: 0.9708 - val_loss: 0.0754\n",
      "Epoch 9/70\n",
      "\u001b[1m290/290\u001b[0m \u001b[32m━━━━━━━━━━━━━━━━━━━━\u001b[0m\u001b[37m\u001b[0m \u001b[1m9s\u001b[0m 31ms/step - accuracy: 0.9801 - loss: 0.0626 - val_accuracy: 0.9866 - val_loss: 0.0496\n",
      "Epoch 10/70\n",
      "\u001b[1m290/290\u001b[0m \u001b[32m━━━━━━━━━━━━━━━━━━━━\u001b[0m\u001b[37m\u001b[0m \u001b[1m9s\u001b[0m 31ms/step - accuracy: 0.9765 - loss: 0.0769 - val_accuracy: 0.9803 - val_loss: 0.0590\n",
      "Epoch 11/70\n",
      "\u001b[1m290/290\u001b[0m \u001b[32m━━━━━━━━━━━━━━━━━━━━\u001b[0m\u001b[37m\u001b[0m \u001b[1m9s\u001b[0m 31ms/step - accuracy: 0.9834 - loss: 0.0519 - val_accuracy: 0.9831 - val_loss: 0.0464\n",
      "Epoch 12/70\n",
      "\u001b[1m290/290\u001b[0m \u001b[32m━━━━━━━━━━━━━━━━━━━━\u001b[0m\u001b[37m\u001b[0m \u001b[1m9s\u001b[0m 30ms/step - accuracy: 0.9842 - loss: 0.0540 - val_accuracy: 0.9821 - val_loss: 0.0507\n",
      "Epoch 13/70\n",
      "\u001b[1m290/290\u001b[0m \u001b[32m━━━━━━━━━━━━━━━━━━━━\u001b[0m\u001b[37m\u001b[0m \u001b[1m9s\u001b[0m 31ms/step - accuracy: 0.9866 - loss: 0.0485 - val_accuracy: 0.9868 - val_loss: 0.0443\n",
      "Epoch 14/70\n",
      "\u001b[1m290/290\u001b[0m \u001b[32m━━━━━━━━━━━━━━━━━━━━\u001b[0m\u001b[37m\u001b[0m \u001b[1m9s\u001b[0m 31ms/step - accuracy: 0.9857 - loss: 0.0473 - val_accuracy: 0.9829 - val_loss: 0.0426\n",
      "Epoch 15/70\n",
      "\u001b[1m290/290\u001b[0m \u001b[32m━━━━━━━━━━━━━━━━━━━━\u001b[0m\u001b[37m\u001b[0m \u001b[1m9s\u001b[0m 31ms/step - accuracy: 0.9860 - loss: 0.0485 - val_accuracy: 0.9890 - val_loss: 0.0418\n",
      "Epoch 16/70\n",
      "\u001b[1m290/290\u001b[0m \u001b[32m━━━━━━━━━━━━━━━━━━━━\u001b[0m\u001b[37m\u001b[0m \u001b[1m9s\u001b[0m 31ms/step - accuracy: 0.9868 - loss: 0.0403 - val_accuracy: 0.9823 - val_loss: 0.0485\n",
      "Epoch 17/70\n",
      "\u001b[1m290/290\u001b[0m \u001b[32m━━━━━━━━━━━━━━━━━━━━\u001b[0m\u001b[37m\u001b[0m \u001b[1m9s\u001b[0m 31ms/step - accuracy: 0.9861 - loss: 0.0444 - val_accuracy: 0.9896 - val_loss: 0.0330\n",
      "Epoch 18/70\n",
      "\u001b[1m290/290\u001b[0m \u001b[32m━━━━━━━━━━━━━━━━━━━━\u001b[0m\u001b[37m\u001b[0m \u001b[1m9s\u001b[0m 30ms/step - accuracy: 0.9897 - loss: 0.0347 - val_accuracy: 0.9855 - val_loss: 0.0473\n",
      "Epoch 19/70\n",
      "\u001b[1m290/290\u001b[0m \u001b[32m━━━━━━━━━━━━━━━━━━━━\u001b[0m\u001b[37m\u001b[0m \u001b[1m9s\u001b[0m 30ms/step - accuracy: 0.9866 - loss: 0.0438 - val_accuracy: 0.9849 - val_loss: 0.0494\n",
      "Epoch 20/70\n",
      "\u001b[1m290/290\u001b[0m \u001b[32m━━━━━━━━━━━━━━━━━━━━\u001b[0m\u001b[37m\u001b[0m \u001b[1m9s\u001b[0m 31ms/step - accuracy: 0.9872 - loss: 0.0412 - val_accuracy: 0.9924 - val_loss: 0.0283\n",
      "Epoch 21/70\n",
      "\u001b[1m290/290\u001b[0m \u001b[32m━━━━━━━━━━━━━━━━━━━━\u001b[0m\u001b[37m\u001b[0m \u001b[1m9s\u001b[0m 30ms/step - accuracy: 0.9890 - loss: 0.0347 - val_accuracy: 0.9838 - val_loss: 0.0443\n",
      "Epoch 22/70\n",
      "\u001b[1m290/290\u001b[0m \u001b[32m━━━━━━━━━━━━━━━━━━━━\u001b[0m\u001b[37m\u001b[0m \u001b[1m9s\u001b[0m 30ms/step - accuracy: 0.9911 - loss: 0.0304 - val_accuracy: 0.9806 - val_loss: 0.0633\n",
      "Epoch 23/70\n",
      "\u001b[1m290/290\u001b[0m \u001b[32m━━━━━━━━━━━━━━━━━━━━\u001b[0m\u001b[37m\u001b[0m \u001b[1m9s\u001b[0m 31ms/step - accuracy: 0.9894 - loss: 0.0339 - val_accuracy: 0.9903 - val_loss: 0.0300\n",
      "Epoch 24/70\n",
      "\u001b[1m290/290\u001b[0m \u001b[32m━━━━━━━━━━━━━━━━━━━━\u001b[0m\u001b[37m\u001b[0m \u001b[1m9s\u001b[0m 30ms/step - accuracy: 0.9900 - loss: 0.0351 - val_accuracy: 0.9896 - val_loss: 0.0364\n",
      "Epoch 25/70\n",
      "\u001b[1m290/290\u001b[0m \u001b[32m━━━━━━━━━━━━━━━━━━━━\u001b[0m\u001b[37m\u001b[0m \u001b[1m9s\u001b[0m 31ms/step - accuracy: 0.9912 - loss: 0.0317 - val_accuracy: 0.9931 - val_loss: 0.0278\n",
      "Epoch 26/70\n",
      "\u001b[1m290/290\u001b[0m \u001b[32m━━━━━━━━━━━━━━━━━━━━\u001b[0m\u001b[37m\u001b[0m \u001b[1m9s\u001b[0m 31ms/step - accuracy: 0.9906 - loss: 0.0357 - val_accuracy: 0.9937 - val_loss: 0.0249\n",
      "Epoch 27/70\n",
      "\u001b[1m290/290\u001b[0m \u001b[32m━━━━━━━━━━━━━━━━━━━━\u001b[0m\u001b[37m\u001b[0m \u001b[1m9s\u001b[0m 31ms/step - accuracy: 0.9917 - loss: 0.0278 - val_accuracy: 0.9933 - val_loss: 0.0286\n",
      "Epoch 28/70\n",
      "\u001b[1m290/290\u001b[0m \u001b[32m━━━━━━━━━━━━━━━━━━━━\u001b[0m\u001b[37m\u001b[0m \u001b[1m9s\u001b[0m 31ms/step - accuracy: 0.9926 - loss: 0.0272 - val_accuracy: 0.9950 - val_loss: 0.0199\n",
      "Epoch 29/70\n",
      "\u001b[1m290/290\u001b[0m \u001b[32m━━━━━━━━━━━━━━━━━━━━\u001b[0m\u001b[37m\u001b[0m \u001b[1m9s\u001b[0m 30ms/step - accuracy: 0.9916 - loss: 0.0286 - val_accuracy: 0.9924 - val_loss: 0.0295\n",
      "Epoch 30/70\n",
      "\u001b[1m290/290\u001b[0m \u001b[32m━━━━━━━━━━━━━━━━━━━━\u001b[0m\u001b[37m\u001b[0m \u001b[1m9s\u001b[0m 30ms/step - accuracy: 0.9904 - loss: 0.0262 - val_accuracy: 0.9911 - val_loss: 0.0345\n",
      "Epoch 31/70\n",
      "\u001b[1m290/290\u001b[0m \u001b[32m━━━━━━━━━━━━━━━━━━━━\u001b[0m\u001b[37m\u001b[0m \u001b[1m9s\u001b[0m 30ms/step - accuracy: 0.9899 - loss: 0.0325 - val_accuracy: 0.9914 - val_loss: 0.0316\n",
      "Epoch 32/70\n",
      "\u001b[1m290/290\u001b[0m \u001b[32m━━━━━━━━━━━━━━━━━━━━\u001b[0m\u001b[37m\u001b[0m \u001b[1m9s\u001b[0m 30ms/step - accuracy: 0.9930 - loss: 0.0256 - val_accuracy: 0.9944 - val_loss: 0.0213\n",
      "Epoch 33/70\n",
      "\u001b[1m290/290\u001b[0m \u001b[32m━━━━━━━━━━━━━━━━━━━━\u001b[0m\u001b[37m\u001b[0m \u001b[1m9s\u001b[0m 31ms/step - accuracy: 0.9912 - loss: 0.0267 - val_accuracy: 0.9950 - val_loss: 0.0177\n",
      "Epoch 34/70\n",
      "\u001b[1m290/290\u001b[0m \u001b[32m━━━━━━━━━━━━━━━━━━━━\u001b[0m\u001b[37m\u001b[0m \u001b[1m9s\u001b[0m 31ms/step - accuracy: 0.9926 - loss: 0.0263 - val_accuracy: 0.9927 - val_loss: 0.0369\n",
      "Epoch 35/70\n",
      "\u001b[1m290/290\u001b[0m \u001b[32m━━━━━━━━━━━━━━━━━━━━\u001b[0m\u001b[37m\u001b[0m \u001b[1m9s\u001b[0m 31ms/step - accuracy: 0.9936 - loss: 0.0242 - val_accuracy: 0.9901 - val_loss: 0.0284\n",
      "Epoch 36/70\n",
      "\u001b[1m290/290\u001b[0m \u001b[32m━━━━━━━━━━━━━━━━━━━━\u001b[0m\u001b[37m\u001b[0m \u001b[1m9s\u001b[0m 31ms/step - accuracy: 0.9941 - loss: 0.0208 - val_accuracy: 0.9939 - val_loss: 0.0293\n",
      "Epoch 37/70\n",
      "\u001b[1m290/290\u001b[0m \u001b[32m━━━━━━━━━━━━━━━━━━━━\u001b[0m\u001b[37m\u001b[0m \u001b[1m9s\u001b[0m 31ms/step - accuracy: 0.9934 - loss: 0.0238 - val_accuracy: 0.9952 - val_loss: 0.0174\n",
      "Epoch 38/70\n",
      "\u001b[1m290/290\u001b[0m \u001b[32m━━━━━━━━━━━━━━━━━━━━\u001b[0m\u001b[37m\u001b[0m \u001b[1m9s\u001b[0m 31ms/step - accuracy: 0.9937 - loss: 0.0222 - val_accuracy: 0.9950 - val_loss: 0.0173\n",
      "Epoch 39/70\n",
      "\u001b[1m290/290\u001b[0m \u001b[32m━━━━━━━━━━━━━━━━━━━━\u001b[0m\u001b[37m\u001b[0m \u001b[1m9s\u001b[0m 31ms/step - accuracy: 0.9958 - loss: 0.0170 - val_accuracy: 0.9952 - val_loss: 0.0185\n",
      "Epoch 40/70\n",
      "\u001b[1m290/290\u001b[0m \u001b[32m━━━━━━━━━━━━━━━━━━━━\u001b[0m\u001b[37m\u001b[0m \u001b[1m9s\u001b[0m 31ms/step - accuracy: 0.9936 - loss: 0.0230 - val_accuracy: 0.9931 - val_loss: 0.0268\n",
      "Epoch 41/70\n",
      "\u001b[1m290/290\u001b[0m \u001b[32m━━━━━━━━━━━━━━━━━━━━\u001b[0m\u001b[37m\u001b[0m \u001b[1m9s\u001b[0m 31ms/step - accuracy: 0.9937 - loss: 0.0228 - val_accuracy: 0.9942 - val_loss: 0.0199\n",
      "Epoch 42/70\n",
      "\u001b[1m290/290\u001b[0m \u001b[32m━━━━━━━━━━━━━━━━━━━━\u001b[0m\u001b[37m\u001b[0m \u001b[1m9s\u001b[0m 31ms/step - accuracy: 0.9938 - loss: 0.0197 - val_accuracy: 0.9946 - val_loss: 0.0199\n",
      "Epoch 43/70\n",
      "\u001b[1m290/290\u001b[0m \u001b[32m━━━━━━━━━━━━━━━━━━━━\u001b[0m\u001b[37m\u001b[0m \u001b[1m9s\u001b[0m 31ms/step - accuracy: 0.9916 - loss: 0.0322 - val_accuracy: 0.9944 - val_loss: 0.0208\n"
     ]
    }
   ],
   "source": [
    "# Define callbacks (optional)\n",
    "model_dir = os.getcwd() + '/model/'\n",
    "os.makedirs(model_dir, exist_ok=True)  # Ensure the model directory exists\n",
    "\n",
    "early_stopping = EarlyStopping(monitor='val_loss', patience=5, restore_best_weights=True)\n",
    "model_checkpoint = ModelCheckpoint(model_dir + 'best_model.keras', save_best_only=True, monitor='val_loss')\n",
    "\n",
    "# Train the model\n",
    "history = model.fit(\n",
    "    X_train, y_train,\n",
    "    epochs=70,  # Increase epochs as needed\n",
    "    batch_size=64,\n",
    "    validation_split=0.2,\n",
    "    callbacks=[early_stopping, model_checkpoint]\n",
    ")"
   ]
  },
  {
   "cell_type": "markdown",
   "id": "73ba27aa",
   "metadata": {
    "papermill": {
     "duration": 0.697044,
     "end_time": "2024-06-23T10:15:08.077457",
     "exception": false,
     "start_time": "2024-06-23T10:15:07.380413",
     "status": "completed"
    },
    "tags": []
   },
   "source": [
    "# Evaluate the model "
   ]
  },
  {
   "cell_type": "code",
   "execution_count": 34,
   "id": "cd31e3e2",
   "metadata": {
    "execution": {
     "iopub.execute_input": "2024-06-23T10:15:09.473013Z",
     "iopub.status.busy": "2024-06-23T10:15:09.472622Z",
     "iopub.status.idle": "2024-06-23T10:15:12.106634Z",
     "shell.execute_reply": "2024-06-23T10:15:12.105693Z"
    },
    "papermill": {
     "duration": 3.336134,
     "end_time": "2024-06-23T10:15:12.108612",
     "exception": false,
     "start_time": "2024-06-23T10:15:08.772478",
     "status": "completed"
    },
    "tags": []
   },
   "outputs": [
    {
     "name": "stdout",
     "output_type": "stream",
     "text": [
      "\u001b[1m181/181\u001b[0m \u001b[32m━━━━━━━━━━━━━━━━━━━━\u001b[0m\u001b[37m\u001b[0m \u001b[1m2s\u001b[0m 9ms/step - accuracy: 0.9956 - loss: 0.0163\n",
      "Test Loss: 0.018116647377610207, Test Accuracy: 0.9948132634162903\n"
     ]
    }
   ],
   "source": [
    "# Load the best model\n",
    "model.load_weights(model_dir + 'best_model.keras')\n",
    "\n",
    "# Evaluate the model\n",
    "test_loss, test_accuracy = model.evaluate(X_test, y_test)\n",
    "print(f'Test Loss: {test_loss}, Test Accuracy: {test_accuracy}')"
   ]
  },
  {
   "cell_type": "code",
   "execution_count": 35,
   "id": "f3948d1f",
   "metadata": {
    "execution": {
     "iopub.execute_input": "2024-06-23T10:15:13.573239Z",
     "iopub.status.busy": "2024-06-23T10:15:13.572842Z",
     "iopub.status.idle": "2024-06-23T10:15:14.090660Z",
     "shell.execute_reply": "2024-06-23T10:15:14.089551Z"
    },
    "papermill": {
     "duration": 1.217942,
     "end_time": "2024-06-23T10:15:14.092868",
     "exception": false,
     "start_time": "2024-06-23T10:15:12.874926",
     "status": "completed"
    },
    "tags": []
   },
   "outputs": [
    {
     "data": {
      "image/png": "[encoded data removed]",
      "text/plain": [
       "<Figure size 1200x600 with 2 Axes>"
      ]
     },
     "metadata": {},
     "output_type": "display_data"
    }
   ],
   "source": [
    "# Function to plot accuracy and loss\n",
    "def evaluate_model(history):\n",
    "    # Create subplots with 1 row and 2 columns\n",
    "    fig, (ax_acc, ax_loss) = plt.subplots(1, 2, figsize=(12, 6))\n",
    "    \n",
    "    # Plot accuracy on the first subplot\n",
    "    ax_acc.plot(history.history['accuracy'])\n",
    "    ax_acc.plot(history.history['val_accuracy'])\n",
    "    ax_acc.set_xlabel('Epoch')\n",
    "    ax_acc.set_ylabel('Accuracy')\n",
    "    ax_acc.set_title('Model Accuracy')\n",
    "    ax_acc.legend(['Training', 'Validation'], loc='lower right')\n",
    "    \n",
    "    # Plot loss on the second subplot\n",
    "    ax_loss.plot(history.history['loss'])\n",
    "    ax_loss.plot(history.history['val_loss'])\n",
    "    ax_loss.set_xlabel('Epoch')\n",
    "    ax_loss.set_ylabel('Loss')\n",
    "    ax_loss.set_title('Model Loss')\n",
    "    ax_loss.legend(['Training', 'Validation'], loc='upper right')\n",
    "    \n",
    "    # Show the plots\n",
    "    plt.show()\n",
    "\n",
    "# Evaluate the training process\n",
    "evaluate_model(history)"
   ]
  },
  {
   "cell_type": "markdown",
   "id": "d39ec94e",
   "metadata": {
    "papermill": {
     "duration": 0.794354,
     "end_time": "2024-06-23T10:15:15.608070",
     "exception": false,
     "start_time": "2024-06-23T10:15:14.813716",
     "status": "completed"
    },
    "tags": []
   },
   "source": [
    "## Save and Load the model"
   ]
  },
  {
   "cell_type": "code",
   "execution_count": 36,
   "id": "fb0600b4",
   "metadata": {
    "execution": {
     "iopub.execute_input": "2024-06-23T10:15:17.014094Z",
     "iopub.status.busy": "2024-06-23T10:15:17.012974Z",
     "iopub.status.idle": "2024-06-23T10:15:17.203332Z",
     "shell.execute_reply": "2024-06-23T10:15:17.202382Z"
    },
    "papermill": {
     "duration": 0.911848,
     "end_time": "2024-06-23T10:15:17.205423",
     "exception": false,
     "start_time": "2024-06-23T10:15:16.293575",
     "status": "completed"
    },
    "tags": []
   },
   "outputs": [
    {
     "data": {
      "text/html": [
       "<pre style=\"white-space:pre;overflow-x:auto;line-height:normal;font-family:Menlo,'DejaVu Sans Mono',consolas,'Courier New',monospace\"><span style=\"font-weight: bold\">Model: \"functional_1\"</span>\n",
       "</pre>\n"
      ],
      "text/plain": [
       "\u001b[1mModel: \"functional_1\"\u001b[0m\n"
      ]
     },
     "metadata": {},
     "output_type": "display_data"
    },
    {
     "data": {
      "text/html": [
       "<pre style=\"white-space:pre;overflow-x:auto;line-height:normal;font-family:Menlo,'DejaVu Sans Mono',consolas,'Courier New',monospace\">┏━━━━━━━━━━━━━━━━━━━━━━━━━━━━━━━━━┳━━━━━━━━━━━━━━━━━━━━━━━━┳━━━━━━━━━━━━━━━┓\n",
       "┃<span style=\"font-weight: bold\"> Layer (type)                    </span>┃<span style=\"font-weight: bold\"> Output Shape           </span>┃<span style=\"font-weight: bold\">       Param # </span>┃\n",
       "┡━━━━━━━━━━━━━━━━━━━━━━━━━━━━━━━━━╇━━━━━━━━━━━━━━━━━━━━━━━━╇━━━━━━━━━━━━━━━┩\n",
       "│ input_layer (<span style=\"color: #0087ff; text-decoration-color: #0087ff\">InputLayer</span>)        │ (<span style=\"color: #00d7ff; text-decoration-color: #00d7ff\">None</span>, <span style=\"color: #00af00; text-decoration-color: #00af00\">360</span>, <span style=\"color: #00af00; text-decoration-color: #00af00\">2</span>)         │             <span style=\"color: #00af00; text-decoration-color: #00af00\">0</span> │\n",
       "├─────────────────────────────────┼────────────────────────┼───────────────┤\n",
       "│ conv1d (<span style=\"color: #0087ff; text-decoration-color: #0087ff\">Conv1D</span>)                 │ (<span style=\"color: #00d7ff; text-decoration-color: #00d7ff\">None</span>, <span style=\"color: #00af00; text-decoration-color: #00af00\">360</span>, <span style=\"color: #00af00; text-decoration-color: #00af00\">128</span>)       │         <span style=\"color: #00af00; text-decoration-color: #00af00\">3,968</span> │\n",
       "├─────────────────────────────────┼────────────────────────┼───────────────┤\n",
       "│ batch_normalization             │ (<span style=\"color: #00d7ff; text-decoration-color: #00d7ff\">None</span>, <span style=\"color: #00af00; text-decoration-color: #00af00\">360</span>, <span style=\"color: #00af00; text-decoration-color: #00af00\">128</span>)       │           <span style=\"color: #00af00; text-decoration-color: #00af00\">512</span> │\n",
       "│ (<span style=\"color: #0087ff; text-decoration-color: #0087ff\">BatchNormalization</span>)            │                        │               │\n",
       "├─────────────────────────────────┼────────────────────────┼───────────────┤\n",
       "│ activation (<span style=\"color: #0087ff; text-decoration-color: #0087ff\">Activation</span>)         │ (<span style=\"color: #00d7ff; text-decoration-color: #00d7ff\">None</span>, <span style=\"color: #00af00; text-decoration-color: #00af00\">360</span>, <span style=\"color: #00af00; text-decoration-color: #00af00\">128</span>)       │             <span style=\"color: #00af00; text-decoration-color: #00af00\">0</span> │\n",
       "├─────────────────────────────────┼────────────────────────┼───────────────┤\n",
       "│ spatial_dropout1d               │ (<span style=\"color: #00d7ff; text-decoration-color: #00d7ff\">None</span>, <span style=\"color: #00af00; text-decoration-color: #00af00\">360</span>, <span style=\"color: #00af00; text-decoration-color: #00af00\">128</span>)       │             <span style=\"color: #00af00; text-decoration-color: #00af00\">0</span> │\n",
       "│ (<span style=\"color: #0087ff; text-decoration-color: #0087ff\">SpatialDropout1D</span>)              │                        │               │\n",
       "├─────────────────────────────────┼────────────────────────┼───────────────┤\n",
       "│ conv1d_1 (<span style=\"color: #0087ff; text-decoration-color: #0087ff\">Conv1D</span>)               │ (<span style=\"color: #00d7ff; text-decoration-color: #00d7ff\">None</span>, <span style=\"color: #00af00; text-decoration-color: #00af00\">360</span>, <span style=\"color: #00af00; text-decoration-color: #00af00\">256</span>)       │       <span style=\"color: #00af00; text-decoration-color: #00af00\">327,936</span> │\n",
       "├─────────────────────────────────┼────────────────────────┼───────────────┤\n",
       "│ batch_normalization_1           │ (<span style=\"color: #00d7ff; text-decoration-color: #00d7ff\">None</span>, <span style=\"color: #00af00; text-decoration-color: #00af00\">360</span>, <span style=\"color: #00af00; text-decoration-color: #00af00\">256</span>)       │         <span style=\"color: #00af00; text-decoration-color: #00af00\">1,024</span> │\n",
       "│ (<span style=\"color: #0087ff; text-decoration-color: #0087ff\">BatchNormalization</span>)            │                        │               │\n",
       "├─────────────────────────────────┼────────────────────────┼───────────────┤\n",
       "│ activation_1 (<span style=\"color: #0087ff; text-decoration-color: #0087ff\">Activation</span>)       │ (<span style=\"color: #00d7ff; text-decoration-color: #00d7ff\">None</span>, <span style=\"color: #00af00; text-decoration-color: #00af00\">360</span>, <span style=\"color: #00af00; text-decoration-color: #00af00\">256</span>)       │             <span style=\"color: #00af00; text-decoration-color: #00af00\">0</span> │\n",
       "├─────────────────────────────────┼────────────────────────┼───────────────┤\n",
       "│ spatial_dropout1d_1             │ (<span style=\"color: #00d7ff; text-decoration-color: #00d7ff\">None</span>, <span style=\"color: #00af00; text-decoration-color: #00af00\">360</span>, <span style=\"color: #00af00; text-decoration-color: #00af00\">256</span>)       │             <span style=\"color: #00af00; text-decoration-color: #00af00\">0</span> │\n",
       "│ (<span style=\"color: #0087ff; text-decoration-color: #0087ff\">SpatialDropout1D</span>)              │                        │               │\n",
       "├─────────────────────────────────┼────────────────────────┼───────────────┤\n",
       "│ conv1d_2 (<span style=\"color: #0087ff; text-decoration-color: #0087ff\">Conv1D</span>)               │ (<span style=\"color: #00d7ff; text-decoration-color: #00d7ff\">None</span>, <span style=\"color: #00af00; text-decoration-color: #00af00\">360</span>, <span style=\"color: #00af00; text-decoration-color: #00af00\">512</span>)       │       <span style=\"color: #00af00; text-decoration-color: #00af00\">655,872</span> │\n",
       "├─────────────────────────────────┼────────────────────────┼───────────────┤\n",
       "│ batch_normalization_2           │ (<span style=\"color: #00d7ff; text-decoration-color: #00d7ff\">None</span>, <span style=\"color: #00af00; text-decoration-color: #00af00\">360</span>, <span style=\"color: #00af00; text-decoration-color: #00af00\">512</span>)       │         <span style=\"color: #00af00; text-decoration-color: #00af00\">2,048</span> │\n",
       "│ (<span style=\"color: #0087ff; text-decoration-color: #0087ff\">BatchNormalization</span>)            │                        │               │\n",
       "├─────────────────────────────────┼────────────────────────┼───────────────┤\n",
       "│ activation_2 (<span style=\"color: #0087ff; text-decoration-color: #0087ff\">Activation</span>)       │ (<span style=\"color: #00d7ff; text-decoration-color: #00d7ff\">None</span>, <span style=\"color: #00af00; text-decoration-color: #00af00\">360</span>, <span style=\"color: #00af00; text-decoration-color: #00af00\">512</span>)       │             <span style=\"color: #00af00; text-decoration-color: #00af00\">0</span> │\n",
       "├─────────────────────────────────┼────────────────────────┼───────────────┤\n",
       "│ dropout (<span style=\"color: #0087ff; text-decoration-color: #0087ff\">Dropout</span>)               │ (<span style=\"color: #00d7ff; text-decoration-color: #00d7ff\">None</span>, <span style=\"color: #00af00; text-decoration-color: #00af00\">360</span>, <span style=\"color: #00af00; text-decoration-color: #00af00\">512</span>)       │             <span style=\"color: #00af00; text-decoration-color: #00af00\">0</span> │\n",
       "├─────────────────────────────────┼────────────────────────┼───────────────┤\n",
       "│ global_average_pooling1d        │ (<span style=\"color: #00d7ff; text-decoration-color: #00d7ff\">None</span>, <span style=\"color: #00af00; text-decoration-color: #00af00\">512</span>)            │             <span style=\"color: #00af00; text-decoration-color: #00af00\">0</span> │\n",
       "│ (<span style=\"color: #0087ff; text-decoration-color: #0087ff\">GlobalAveragePooling1D</span>)        │                        │               │\n",
       "├─────────────────────────────────┼────────────────────────┼───────────────┤\n",
       "│ output_layer (<span style=\"color: #0087ff; text-decoration-color: #0087ff\">Dense</span>)            │ (<span style=\"color: #00d7ff; text-decoration-color: #00d7ff\">None</span>, <span style=\"color: #00af00; text-decoration-color: #00af00\">4</span>)              │         <span style=\"color: #00af00; text-decoration-color: #00af00\">2,052</span> │\n",
       "└─────────────────────────────────┴────────────────────────┴───────────────┘\n",
       "</pre>\n"
      ],
      "text/plain": [
       "┏━━━━━━━━━━━━━━━━━━━━━━━━━━━━━━━━━┳━━━━━━━━━━━━━━━━━━━━━━━━┳━━━━━━━━━━━━━━━┓\n",
       "┃\u001b[1m \u001b[0m\u001b[1mLayer (type)                   \u001b[0m\u001b[1m \u001b[0m┃\u001b[1m \u001b[0m\u001b[1mOutput Shape          \u001b[0m\u001b[1m \u001b[0m┃\u001b[1m \u001b[0m\u001b[1m      Param #\u001b[0m\u001b[1m \u001b[0m┃\n",
       "┡━━━━━━━━━━━━━━━━━━━━━━━━━━━━━━━━━╇━━━━━━━━━━━━━━━━━━━━━━━━╇━━━━━━━━━━━━━━━┩\n",
       "│ input_layer (\u001b[38;5;33mInputLayer\u001b[0m)        │ (\u001b[38;5;45mNone\u001b[0m, \u001b[38;5;34m360\u001b[0m, \u001b[38;5;34m2\u001b[0m)         │             \u001b[38;5;34m0\u001b[0m │\n",
       "├─────────────────────────────────┼────────────────────────┼───────────────┤\n",
       "│ conv1d (\u001b[38;5;33mConv1D\u001b[0m)                 │ (\u001b[38;5;45mNone\u001b[0m, \u001b[38;5;34m360\u001b[0m, \u001b[38;5;34m128\u001b[0m)       │         \u001b[38;5;34m3,968\u001b[0m │\n",
       "├─────────────────────────────────┼────────────────────────┼───────────────┤\n",
       "│ batch_normalization             │ (\u001b[38;5;45mNone\u001b[0m, \u001b[38;5;34m360\u001b[0m, \u001b[38;5;34m128\u001b[0m)       │           \u001b[38;5;34m512\u001b[0m │\n",
       "│ (\u001b[38;5;33mBatchNormalization\u001b[0m)            │                        │               │\n",
       "├─────────────────────────────────┼────────────────────────┼───────────────┤\n",
       "│ activation (\u001b[38;5;33mActivation\u001b[0m)         │ (\u001b[38;5;45mNone\u001b[0m, \u001b[38;5;34m360\u001b[0m, \u001b[38;5;34m128\u001b[0m)       │             \u001b[38;5;34m0\u001b[0m │\n",
       "├─────────────────────────────────┼────────────────────────┼───────────────┤\n",
       "│ spatial_dropout1d               │ (\u001b[38;5;45mNone\u001b[0m, \u001b[38;5;34m360\u001b[0m, \u001b[38;5;34m128\u001b[0m)       │             \u001b[38;5;34m0\u001b[0m │\n",
       "│ (\u001b[38;5;33mSpatialDropout1D\u001b[0m)              │                        │               │\n",
       "├─────────────────────────────────┼────────────────────────┼───────────────┤\n",
       "│ conv1d_1 (\u001b[38;5;33mConv1D\u001b[0m)               │ (\u001b[38;5;45mNone\u001b[0m, \u001b[38;5;34m360\u001b[0m, \u001b[38;5;34m256\u001b[0m)       │       \u001b[38;5;34m327,936\u001b[0m │\n",
       "├─────────────────────────────────┼────────────────────────┼───────────────┤\n",
       "│ batch_normalization_1           │ (\u001b[38;5;45mNone\u001b[0m, \u001b[38;5;34m360\u001b[0m, \u001b[38;5;34m256\u001b[0m)       │         \u001b[38;5;34m1,024\u001b[0m │\n",
       "│ (\u001b[38;5;33mBatchNormalization\u001b[0m)            │                        │               │\n",
       "├─────────────────────────────────┼────────────────────────┼───────────────┤\n",
       "│ activation_1 (\u001b[38;5;33mActivation\u001b[0m)       │ (\u001b[38;5;45mNone\u001b[0m, \u001b[38;5;34m360\u001b[0m, \u001b[38;5;34m256\u001b[0m)       │             \u001b[38;5;34m0\u001b[0m │\n",
       "├─────────────────────────────────┼────────────────────────┼───────────────┤\n",
       "│ spatial_dropout1d_1             │ (\u001b[38;5;45mNone\u001b[0m, \u001b[38;5;34m360\u001b[0m, \u001b[38;5;34m256\u001b[0m)       │             \u001b[38;5;34m0\u001b[0m │\n",
       "│ (\u001b[38;5;33mSpatialDropout1D\u001b[0m)              │                        │               │\n",
       "├─────────────────────────────────┼────────────────────────┼───────────────┤\n",
       "│ conv1d_2 (\u001b[38;5;33mConv1D\u001b[0m)               │ (\u001b[38;5;45mNone\u001b[0m, \u001b[38;5;34m360\u001b[0m, \u001b[38;5;34m512\u001b[0m)       │       \u001b[38;5;34m655,872\u001b[0m │\n",
       "├─────────────────────────────────┼────────────────────────┼───────────────┤\n",
       "│ batch_normalization_2           │ (\u001b[38;5;45mNone\u001b[0m, \u001b[38;5;34m360\u001b[0m, \u001b[38;5;34m512\u001b[0m)       │         \u001b[38;5;34m2,048\u001b[0m │\n",
       "│ (\u001b[38;5;33mBatchNormalization\u001b[0m)            │                        │               │\n",
       "├─────────────────────────────────┼────────────────────────┼───────────────┤\n",
       "│ activation_2 (\u001b[38;5;33mActivation\u001b[0m)       │ (\u001b[38;5;45mNone\u001b[0m, \u001b[38;5;34m360\u001b[0m, \u001b[38;5;34m512\u001b[0m)       │             \u001b[38;5;34m0\u001b[0m │\n",
       "├─────────────────────────────────┼────────────────────────┼───────────────┤\n",
       "│ dropout (\u001b[38;5;33mDropout\u001b[0m)               │ (\u001b[38;5;45mNone\u001b[0m, \u001b[38;5;34m360\u001b[0m, \u001b[38;5;34m512\u001b[0m)       │             \u001b[38;5;34m0\u001b[0m │\n",
       "├─────────────────────────────────┼────────────────────────┼───────────────┤\n",
       "│ global_average_pooling1d        │ (\u001b[38;5;45mNone\u001b[0m, \u001b[38;5;34m512\u001b[0m)            │             \u001b[38;5;34m0\u001b[0m │\n",
       "│ (\u001b[38;5;33mGlobalAveragePooling1D\u001b[0m)        │                        │               │\n",
       "├─────────────────────────────────┼────────────────────────┼───────────────┤\n",
       "│ output_layer (\u001b[38;5;33mDense\u001b[0m)            │ (\u001b[38;5;45mNone\u001b[0m, \u001b[38;5;34m4\u001b[0m)              │         \u001b[38;5;34m2,052\u001b[0m │\n",
       "└─────────────────────────────────┴────────────────────────┴───────────────┘\n"
      ]
     },
     "metadata": {},
     "output_type": "display_data"
    },
    {
     "data": {
      "text/html": [
       "<pre style=\"white-space:pre;overflow-x:auto;line-height:normal;font-family:Menlo,'DejaVu Sans Mono',consolas,'Courier New',monospace\"><span style=\"font-weight: bold\"> Total params: </span><span style=\"color: #00af00; text-decoration-color: #00af00\">993,414</span> (3.79 MB)\n",
       "</pre>\n"
      ],
      "text/plain": [
       "\u001b[1m Total params: \u001b[0m\u001b[38;5;34m993,414\u001b[0m (3.79 MB)\n"
      ]
     },
     "metadata": {},
     "output_type": "display_data"
    },
    {
     "data": {
      "text/html": [
       "<pre style=\"white-space:pre;overflow-x:auto;line-height:normal;font-family:Menlo,'DejaVu Sans Mono',consolas,'Courier New',monospace\"><span style=\"font-weight: bold\"> Trainable params: </span><span style=\"color: #00af00; text-decoration-color: #00af00\">991,620</span> (3.78 MB)\n",
       "</pre>\n"
      ],
      "text/plain": [
       "\u001b[1m Trainable params: \u001b[0m\u001b[38;5;34m991,620\u001b[0m (3.78 MB)\n"
      ]
     },
     "metadata": {},
     "output_type": "display_data"
    },
    {
     "data": {
      "text/html": [
       "<pre style=\"white-space:pre;overflow-x:auto;line-height:normal;font-family:Menlo,'DejaVu Sans Mono',consolas,'Courier New',monospace\"><span style=\"font-weight: bold\"> Non-trainable params: </span><span style=\"color: #00af00; text-decoration-color: #00af00\">1,792</span> (7.00 KB)\n",
       "</pre>\n"
      ],
      "text/plain": [
       "\u001b[1m Non-trainable params: \u001b[0m\u001b[38;5;34m1,792\u001b[0m (7.00 KB)\n"
      ]
     },
     "metadata": {},
     "output_type": "display_data"
    },
    {
     "data": {
      "text/html": [
       "<pre style=\"white-space:pre;overflow-x:auto;line-height:normal;font-family:Menlo,'DejaVu Sans Mono',consolas,'Courier New',monospace\"><span style=\"font-weight: bold\"> Optimizer params: </span><span style=\"color: #00af00; text-decoration-color: #00af00\">2</span> (12.00 B)\n",
       "</pre>\n"
      ],
      "text/plain": [
       "\u001b[1m Optimizer params: \u001b[0m\u001b[38;5;34m2\u001b[0m (12.00 B)\n"
      ]
     },
     "metadata": {},
     "output_type": "display_data"
    }
   ],
   "source": [
    "# save entire model to a HDF5 file\n",
    "model.save('ECG_model.h5')\n",
    "\n",
    "# Recreate the exact same model, including weights and optimizer.\n",
    "ECG_model = keras.models.load_model('ECG_model.h5')\n",
    "ECG_model.summary()"
   ]
  },
  {
   "cell_type": "code",
   "execution_count": 37,
   "id": "c301e884",
   "metadata": {
    "execution": {
     "iopub.execute_input": "2024-06-23T10:15:18.685107Z",
     "iopub.status.busy": "2024-06-23T10:15:18.684188Z",
     "iopub.status.idle": "2024-06-23T10:15:20.184663Z",
     "shell.execute_reply": "2024-06-23T10:15:20.183562Z"
    },
    "papermill": {
     "duration": 2.199915,
     "end_time": "2024-06-23T10:15:20.187173",
     "exception": false,
     "start_time": "2024-06-23T10:15:17.987258",
     "status": "completed"
    },
    "tags": []
   },
   "outputs": [
    {
     "name": "stdout",
     "output_type": "stream",
     "text": [
      "\u001b[1m181/181\u001b[0m \u001b[32m━━━━━━━━━━━━━━━━━━━━\u001b[0m\u001b[37m\u001b[0m \u001b[1m1s\u001b[0m 5ms/step\n"
     ]
    }
   ],
   "source": [
    "y_pred=ECG_model.predict(X_test)"
   ]
  },
  {
   "cell_type": "markdown",
   "id": "1873e6a5",
   "metadata": {
    "papermill": {
     "duration": 0.750741,
     "end_time": "2024-06-23T10:15:21.633815",
     "exception": false,
     "start_time": "2024-06-23T10:15:20.883074",
     "status": "completed"
    },
    "tags": []
   },
   "source": [
    "## Confusion matrix"
   ]
  },
  {
   "cell_type": "code",
   "execution_count": 38,
   "id": "b2f2451e",
   "metadata": {
    "execution": {
     "iopub.execute_input": "2024-06-23T10:15:23.114004Z",
     "iopub.status.busy": "2024-06-23T10:15:23.113604Z",
     "iopub.status.idle": "2024-06-23T10:15:23.447260Z",
     "shell.execute_reply": "2024-06-23T10:15:23.446313Z"
    },
    "papermill": {
     "duration": 1.10069,
     "end_time": "2024-06-23T10:15:23.449279",
     "exception": false,
     "start_time": "2024-06-23T10:15:22.348589",
     "status": "completed"
    },
    "tags": []
   },
   "outputs": [
    {
     "data": {
      "image/png": "[encoded data removed]",
      "text/plain": [
       "<Figure size 640x480 with 2 Axes>"
      ]
     },
     "metadata": {},
     "output_type": "display_data"
    }
   ],
   "source": [
    "# Assuming cat_map and your predictions y_test, y_pred are already defined\n",
    "cat_map = {value: item for item, value in category_mapping.items()}\n",
    "\n",
    "# Compute confusion matrix\n",
    "cm = confusion_matrix(y_test.argmax(axis=1), y_pred.argmax(axis=1))\n",
    "\n",
    "# Normalize the confusion matrix by row (i.e by the number of samples in each class)\n",
    "cm_normalized = cm.astype('float') / cm.sum(axis=1)[:, np.newaxis]\n",
    "\n",
    "# Plot the normalized confusion matrix\n",
    "disp = ConfusionMatrixDisplay(confusion_matrix=cm_normalized, display_labels=cat_map.values())\n",
    "disp.plot(cmap=plt.cm.Blues)\n",
    "plt.title('Normalized Confusion Matrix')\n",
    "plt.show()"
   ]
  },
  {
   "cell_type": "markdown",
   "id": "df824b2a",
   "metadata": {
    "papermill": {
     "duration": 0.710964,
     "end_time": "2024-06-23T10:15:24.855681",
     "exception": false,
     "start_time": "2024-06-23T10:15:24.144717",
     "status": "completed"
    },
    "tags": []
   },
   "source": [
    "## Classification Report"
   ]
  },
  {
   "cell_type": "code",
   "execution_count": 39,
   "id": "ff908526",
   "metadata": {
    "execution": {
     "iopub.execute_input": "2024-06-23T10:15:26.305397Z",
     "iopub.status.busy": "2024-06-23T10:15:26.304424Z",
     "iopub.status.idle": "2024-06-23T10:15:26.321489Z",
     "shell.execute_reply": "2024-06-23T10:15:26.320356Z"
    },
    "papermill": {
     "duration": 0.706817,
     "end_time": "2024-06-23T10:15:26.323669",
     "exception": false,
     "start_time": "2024-06-23T10:15:25.616852",
     "status": "completed"
    },
    "tags": []
   },
   "outputs": [
    {
     "name": "stdout",
     "output_type": "stream",
     "text": [
      "              precision    recall  f1-score   support\n",
      "\n",
      "      Normal       0.99      1.00      0.99      1403\n",
      "    Artifact       0.99      0.99      0.99      1486\n",
      "    Abnormal       1.00      1.00      1.00      1475\n",
      "      Fusion       1.00      1.00      1.00      1420\n",
      "\n",
      "    accuracy                           0.99      5784\n",
      "   macro avg       0.99      0.99      0.99      5784\n",
      "weighted avg       0.99      0.99      0.99      5784\n",
      "\n"
     ]
    }
   ],
   "source": [
    "print(classification_report(y_test.argmax(axis=1), y_pred.argmax(axis=1), target_names=cat_map.values()))"
   ]
  },
  {
   "cell_type": "markdown",
   "id": "38e44195",
   "metadata": {
    "papermill": {
     "duration": 0.756049,
     "end_time": "2024-06-23T10:15:27.774424",
     "exception": false,
     "start_time": "2024-06-23T10:15:27.018375",
     "status": "completed"
    },
    "tags": []
   },
   "source": [
    "# Predictions"
   ]
  },
  {
   "cell_type": "code",
   "execution_count": 40,
   "id": "415ab312",
   "metadata": {
    "execution": {
     "iopub.execute_input": "2024-06-23T10:15:29.161365Z",
     "iopub.status.busy": "2024-06-23T10:15:29.160976Z",
     "iopub.status.idle": "2024-06-23T10:15:29.622877Z",
     "shell.execute_reply": "2024-06-23T10:15:29.621906Z"
    },
    "papermill": {
     "duration": 1.166786,
     "end_time": "2024-06-23T10:15:29.624790",
     "exception": false,
     "start_time": "2024-06-23T10:15:28.458004",
     "status": "completed"
    },
    "tags": []
   },
   "outputs": [
    {
     "name": "stdout",
     "output_type": "stream",
     "text": [
      "\u001b[1m1/1\u001b[0m \u001b[32m━━━━━━━━━━━━━━━━━━━━\u001b[0m\u001b[37m\u001b[0m \u001b[1m0s\u001b[0m 408ms/step\n",
      "Fusion\n",
      "Fusion\n"
     ]
    }
   ],
   "source": [
    "# Predict on a single sample\n",
    "prediction = ECG_model.predict(X_train[-1].reshape((1, 360, 2)))\n",
    "print(cat_map[prediction.argmax()])\n",
    "print(cat_map[y_train[-1].argmax()])"
   ]
  },
  {
   "cell_type": "code",
   "execution_count": 41,
   "id": "dd696c53",
   "metadata": {
    "execution": {
     "iopub.execute_input": "2024-06-23T10:15:31.069766Z",
     "iopub.status.busy": "2024-06-23T10:15:31.069046Z",
     "iopub.status.idle": "2024-06-23T10:15:31.081439Z",
     "shell.execute_reply": "2024-06-23T10:15:31.080544Z"
    },
    "papermill": {
     "duration": 0.769074,
     "end_time": "2024-06-23T10:15:31.083488",
     "exception": false,
     "start_time": "2024-06-23T10:15:30.314414",
     "status": "completed"
    },
    "tags": []
   },
   "outputs": [],
   "source": [
    "class ECG_Signal_Classifications:\n",
    "    def __init__(self, model_dir):\n",
    "        self.model_path= model_dir\n",
    "        self.Category  = {0: 'Normal', \n",
    "                          1: 'Abnormal', \n",
    "                          2: 'Artifact', \n",
    "                          3: 'Fusion', \n",
    "                          4: 'Escape'}\n",
    "        self.segment_length = 360\n",
    "\n",
    "    def load_model(self):\n",
    "        model = keras.models.load_model(self.model_path)\n",
    "        print(\"Model Successfully Loaded\")\n",
    "        return model\n",
    "    def data_preprocessing(self,data_dir,n=7):\n",
    "        if data_dir.endswith('.hea'):\n",
    "            record_path = os.path.splitext(data_dir)[0]\n",
    "        elif data_dir.endswith('.dat'):\n",
    "            record_path = os.path.splitext(data_dir)[0]\n",
    "        else:\n",
    "            record_path=data_dir\n",
    "\n",
    "        # Load the record\n",
    "        \"\"\"\n",
    "          sampfrom : Sampling starting point [360, Assuming starting sample may be not correct]\n",
    "          sampto   : Sampling ending Point   [n*360]\n",
    "        \"\"\"\n",
    "        record = wfdb.rdrecord(record_path, sampfrom=360,sampto=360*n)\n",
    "        \n",
    "        return record.p_signal\n",
    "    \n",
    "    def predictions(self,data_dir):\n",
    "        Records   = self.data_preprocessing(data_dir)\n",
    "        ECG_model = self.load_model()\n",
    "        pred_labels = []\n",
    "        # Calculate the total number of segments\n",
    "        total_segments = len(Records) // self.segment_length\n",
    "\n",
    "        # Ensure the segment indices are within the bounds of the signal\n",
    "        for i in tqdm(range(total_segments), desc=\"Processing segments\"):\n",
    "            # Move to the next segment\n",
    "            start = i * self.segment_length\n",
    "            end = start + self.segment_length\n",
    "\n",
    "            # Extract segments from both leads (assuming two leads)\n",
    "            if Records.shape[1] >= 2:\n",
    "                segment = Records[start:end, :2]  # Extracting both channels\n",
    "            else:\n",
    "                segment = np.tile(Records[start:end, :1], (1, 2))  # Duplicate the single channel\n",
    "            \n",
    "            if segment.shape[0] == self.segment_length:\n",
    "                # Predict on a single sample\n",
    "                prediction = ECG_model.predict(segment.reshape((1, 360, 2)))\n",
    "                prediction = prediction.argmax()\n",
    "\n",
    "                # Reverse the mapping\n",
    "                pred_label = self.Category[prediction]\n",
    "                pred_labels.append(pred_label)\n",
    "        \n",
    "        return pred_labels"
   ]
  },
  {
   "cell_type": "code",
   "execution_count": 42,
   "id": "c8222093",
   "metadata": {
    "execution": {
     "iopub.execute_input": "2024-06-23T10:15:32.494286Z",
     "iopub.status.busy": "2024-06-23T10:15:32.493397Z",
     "iopub.status.idle": "2024-06-23T10:15:33.282928Z",
     "shell.execute_reply": "2024-06-23T10:15:33.281937Z"
    },
    "papermill": {
     "duration": 1.508382,
     "end_time": "2024-06-23T10:15:33.285720",
     "exception": false,
     "start_time": "2024-06-23T10:15:31.777338",
     "status": "completed"
    },
    "tags": []
   },
   "outputs": [
    {
     "name": "stdout",
     "output_type": "stream",
     "text": [
      "Model Successfully Loaded\n"
     ]
    },
    {
     "name": "stderr",
     "output_type": "stream",
     "text": [
      "Processing segments:   0%|          | 0/6 [00:00<?, ?it/s]"
     ]
    },
    {
     "name": "stdout",
     "output_type": "stream",
     "text": [
      "\u001b[1m1/1\u001b[0m \u001b[32m━━━━━━━━━━━━━━━━━━━━\u001b[0m\u001b[37m\u001b[0m \u001b[1m0s\u001b[0m 304ms/step\n"
     ]
    },
    {
     "name": "stderr",
     "output_type": "stream",
     "text": [
      "Processing segments:  17%|█▋        | 1/6 [00:00<00:01,  2.90it/s]"
     ]
    },
    {
     "name": "stdout",
     "output_type": "stream",
     "text": [
      "\u001b[1m1/1\u001b[0m \u001b[32m━━━━━━━━━━━━━━━━━━━━\u001b[0m\u001b[37m\u001b[0m \u001b[1m0s\u001b[0m 18ms/step\n",
      "\u001b[1m1/1\u001b[0m \u001b[32m━━━━━━━━━━━━━━━━━━━━\u001b[0m\u001b[37m\u001b[0m \u001b[1m0s\u001b[0m 19ms/step\n"
     ]
    },
    {
     "name": "stderr",
     "output_type": "stream",
     "text": [
      "Processing segments:  50%|█████     | 3/6 [00:00<00:00,  7.01it/s]"
     ]
    },
    {
     "name": "stdout",
     "output_type": "stream",
     "text": [
      "\u001b[1m1/1\u001b[0m \u001b[32m━━━━━━━━━━━━━━━━━━━━\u001b[0m\u001b[37m\u001b[0m \u001b[1m0s\u001b[0m 20ms/step\n",
      "\u001b[1m1/1\u001b[0m \u001b[32m━━━━━━━━━━━━━━━━━━━━\u001b[0m\u001b[37m\u001b[0m \u001b[1m0s\u001b[0m 19ms/step\n"
     ]
    },
    {
     "name": "stderr",
     "output_type": "stream",
     "text": [
      "Processing segments:  83%|████████▎ | 5/6 [00:00<00:00,  9.72it/s]"
     ]
    },
    {
     "name": "stdout",
     "output_type": "stream",
     "text": [
      "\u001b[1m1/1\u001b[0m \u001b[32m━━━━━━━━━━━━━━━━━━━━\u001b[0m\u001b[37m\u001b[0m \u001b[1m0s\u001b[0m 18ms/step\n"
     ]
    },
    {
     "name": "stderr",
     "output_type": "stream",
     "text": [
      "Processing segments: 100%|██████████| 6/6 [00:00<00:00,  8.75it/s]"
     ]
    },
    {
     "name": "stdout",
     "output_type": "stream",
     "text": [
      "['Normal', 'Normal', 'Normal', 'Normal', 'Normal', 'Normal']\n"
     ]
    },
    {
     "name": "stderr",
     "output_type": "stream",
     "text": [
      "\n"
     ]
    }
   ],
   "source": [
    "# Trained_Model_path\n",
    "model_dir='ECG_model.h5'\n",
    "data_dir= record_paths[1]\n",
    "ECG=ECG_Signal_Classifications(model_dir)\n",
    "print(ECG.predictions(data_dir))"
   ]
  },
  {
   "cell_type": "markdown",
   "id": "41e789c5",
   "metadata": {
    "papermill": {
     "duration": 0.743318,
     "end_time": "2024-06-23T10:15:34.736038",
     "exception": false,
     "start_time": "2024-06-23T10:15:33.992720",
     "status": "completed"
    },
    "tags": []
   },
   "source": [
    "# Key Findings\n",
    "\n",
    "The classification models achieved promising results, with the best-performing model reaching an accuracy of 99%. The precision, recall, and F1-score metrics also indicated strong performance, especially in detecting abnormal heartbeats.\n",
    "\n",
    "## Future Work:\n",
    "\n",
    "- Enhanced Preprocessing: With more sophisticated preprocessing techniques can further improve signal quality and thaat may result the improved model performance.\n",
    "- Advanced Architectures: Implementing more advanced deep learning architectures, such as LSTM or transformer-based models, could potentially improve classification accuracy.\n",
    "- Broader Dataset: Expanding the dataset to include more diverse ECG signals from different populations with equal propoetional for each calss would enhance the model's robustness and generalizability.\n",
    "\n",
    "In conclusion, the project successfully demonstrated the potential of machine learning techniques in classifying ECG signals, providing a foundation for further research and development in this critical area of healthcare."
   ]
  },
  {
   "cell_type": "code",
   "execution_count": null,
   "id": "fd063277",
   "metadata": {
    "papermill": {
     "duration": 0.691551,
     "end_time": "2024-06-23T10:15:36.117505",
     "exception": false,
     "start_time": "2024-06-23T10:15:35.425954",
     "status": "completed"
    },
    "tags": []
   },
   "outputs": [],
   "source": []
  }
 ],
 "metadata": {
  "kaggle": {
   "accelerator": "gpu",
   "dataSources": [],
   "dockerImageVersionId": 30733,
   "isGpuEnabled": true,
   "isInternetEnabled": true,
   "language": "python",
   "sourceType": "notebook"
  },
  "kernelspec": {
   "display_name": "Python 3",
   "language": "python",
   "name": "python3"
  },
  "language_info": {
   "codemirror_mode": {
    "name": "ipython",
    "version": 3
   },
   "file_extension": ".py",
   "mimetype": "text/x-python",
   "name": "python",
   "nbconvert_exporter": "python",
   "pygments_lexer": "ipython3",
   "version": "3.10.13"
  },
  "papermill": {
   "default_parameters": {},
   "duration": 595.342448,
   "end_time": "2024-06-23T10:15:39.669587",
   "environment_variables": {},
   "exception": null,
   "input_path": "__notebook__.ipynb",
   "output_path": "__notebook__.ipynb",
   "parameters": {},
   "start_time": "2024-06-23T10:05:44.327139",
   "version": "2.5.0"
  }
 },
 "nbformat": 4,
 "nbformat_minor": 5
}
